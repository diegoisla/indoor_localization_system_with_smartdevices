{
 "cells": [
  {
   "cell_type": "markdown",
   "metadata": {},
   "source": [
    "# Data analyst"
   ]
  },
  {
   "cell_type": "markdown",
   "metadata": {},
   "source": [
    "## Load libraries"
   ]
  },
  {
   "cell_type": "code",
   "execution_count": 12,
   "metadata": {},
   "outputs": [],
   "source": [
    "import os\n",
    "import numpy as np\n",
    "import pandas as pd\n",
    "import matplotlib.pyplot as plt\n",
    "\n",
    "import sklearn\n",
    "from sklearn.model_selection import cross_val_score\n",
    "from sklearn.model_selection import RepeatedKFold"
   ]
  },
  {
   "cell_type": "markdown",
   "metadata": {},
   "source": [
    "## Load data"
   ]
  },
  {
   "cell_type": "code",
   "execution_count": 2,
   "metadata": {},
   "outputs": [],
   "source": [
    "ROOT_PATH = os.pardir\n",
    "\n",
    "RAW_DATA_PATH = ROOT_PATH + '\\\\data\\\\raw\\\\'\n",
    "\n",
    "PROC_DATA_PATH = ROOT_PATH + '\\\\data\\\\proc\\\\'"
   ]
  },
  {
   "cell_type": "code",
   "execution_count": null,
   "metadata": {},
   "outputs": [],
   "source": [
    "signals = pd.read_excel(PROC_DATA_PATH + 'measure1_wifi_smartphone.xlsx', index_col=0)\n",
    "signals"
   ]
  },
  {
   "cell_type": "markdown",
   "metadata": {},
   "source": [
    "## Split labels and features"
   ]
  },
  {
   "cell_type": "code",
   "execution_count": 5,
   "metadata": {},
   "outputs": [],
   "source": [
    "# X = m1_wifi_df.iloc[:,:-2]\n",
    "# y = m1_wifi_df.iloc[:,-2:]\n",
    "\n",
    "X = signals.iloc[:,1:-2]\n",
    "y = signals.iloc[:,-2:]"
   ]
  },
  {
   "cell_type": "markdown",
   "metadata": {},
   "source": [
    "### Standarize"
   ]
  },
  {
   "cell_type": "code",
   "execution_count": 7,
   "metadata": {},
   "outputs": [],
   "source": [
    "from sklearn.preprocessing import StandardScaler\n",
    "\n",
    "std = StandardScaler().fit(X)\n",
    "X = pd.DataFrame(std.transform(X), columns=X.columns)"
   ]
  },
  {
   "cell_type": "markdown",
   "metadata": {},
   "source": [
    "## Split train test"
   ]
  },
  {
   "cell_type": "code",
   "execution_count": 9,
   "metadata": {},
   "outputs": [],
   "source": [
    "from sklearn.model_selection import train_test_split\n",
    "from sklearn.utils import shuffle           \n",
    "\n",
    "X, y = shuffle(X, y, random_state=44)\n",
    "X_train, X_test, y_train, y_test = train_test_split(X,\n",
    "                                                    y,\n",
    "                                                    test_size=0.2,\n",
    "                                                    random_state=44)"
   ]
  },
  {
   "cell_type": "markdown",
   "metadata": {},
   "source": [
    "## Build the model"
   ]
  },
  {
   "cell_type": "markdown",
   "metadata": {},
   "source": [
    "### Linear Regression for Multioutput Regression"
   ]
  },
  {
   "cell_type": "code",
   "execution_count": 14,
   "metadata": {},
   "outputs": [
    {
     "name": "stdout",
     "output_type": "stream",
     "text": [
      "MAE: 1.266 (0.060)\n"
     ]
    }
   ],
   "source": [
    "from sklearn.linear_model import LinearRegression\n",
    "\n",
    "# define model\n",
    "model = LinearRegression()\n",
    "# define the evaluation procedure\n",
    "cv = RepeatedKFold(n_splits=5, n_repeats=3, random_state=44)\n",
    "# evaluate the model and collect the scores\n",
    "n_scores = cross_val_score(model, X_train, y_train, scoring='neg_mean_absolute_error', cv=cv, n_jobs=-1)\n",
    "# force the scores to be positive\n",
    "n_scores = np.absolute(n_scores)\n",
    "# summarize performance\n",
    "print('MAE: %.3f (%.3f)' % (np.mean(n_scores), np.std(n_scores)))"
   ]
  },
  {
   "cell_type": "markdown",
   "metadata": {},
   "source": [
    "### k-Nearest Neighbors for Multioutput Regression"
   ]
  },
  {
   "cell_type": "code",
   "execution_count": 15,
   "metadata": {},
   "outputs": [
    {
     "name": "stdout",
     "output_type": "stream",
     "text": [
      "MAE: 0.015 (0.008)\n"
     ]
    }
   ],
   "source": [
    "from sklearn.neighbors import KNeighborsRegressor\n",
    "\n",
    "# define model\n",
    "model = KNeighborsRegressor()\n",
    "# define the evaluation procedure\n",
    "cv = RepeatedKFold(n_splits=5, n_repeats=3, random_state=44)\n",
    "# evaluate the model and collect the scores\n",
    "n_scores = cross_val_score(model, X_train, y_train, scoring='neg_mean_absolute_error', cv=cv, n_jobs=-1)\n",
    "# force the scores to be positive\n",
    "n_scores = np.absolute(n_scores)\n",
    "# summarize performance\n",
    "print('MAE: %.3f (%.3f)' % (np.mean(n_scores), np.std(n_scores)))"
   ]
  },
  {
   "cell_type": "markdown",
   "metadata": {},
   "source": [
    "### Decision Tree"
   ]
  },
  {
   "cell_type": "code",
   "execution_count": 16,
   "metadata": {},
   "outputs": [
    {
     "name": "stdout",
     "output_type": "stream",
     "text": [
      "MAE: 0.007 (0.008)\n"
     ]
    }
   ],
   "source": [
    "from sklearn.tree import DecisionTreeRegressor\n",
    "\n",
    "# define model\n",
    "model = DecisionTreeRegressor()\n",
    "# define the evaluation procedure\n",
    "cv = RepeatedKFold(n_splits=5, n_repeats=3, random_state=44)\n",
    "# evaluate the model and collect the scores\n",
    "n_scores = cross_val_score(model, X_train, y_train, scoring='neg_mean_absolute_error', cv=cv, n_jobs=-1)\n",
    "# force the scores to be positive\n",
    "n_scores = np.absolute(n_scores)\n",
    "# summarize performance\n",
    "print('MAE: %.3f (%.3f)' % (np.mean(n_scores), np.std(n_scores)))"
   ]
  },
  {
   "cell_type": "markdown",
   "metadata": {},
   "source": [
    "### Direct Multioutput Regression"
   ]
  },
  {
   "cell_type": "code",
   "execution_count": 17,
   "metadata": {},
   "outputs": [
    {
     "name": "stdout",
     "output_type": "stream",
     "text": [
      "MAE: 1.035 (0.081)\n"
     ]
    }
   ],
   "source": [
    "from sklearn.multioutput import MultiOutputRegressor\n",
    "from sklearn.svm import LinearSVR\n",
    "\n",
    "# define base model\n",
    "model = LinearSVR()\n",
    "# define the direct multioutput wrapper model\n",
    "wrapper = MultiOutputRegressor(model)\n",
    "# define the evaluation procedure\n",
    "cv = RepeatedKFold(n_splits=5, n_repeats=3, random_state=44)\n",
    "# evaluate the model and collect the scores\n",
    "n_scores = cross_val_score(wrapper, X_train, y_train, scoring='neg_mean_absolute_error', cv=cv, n_jobs=-1)\n",
    "# force the scores to be positive\n",
    "n_scores = np.absolute(n_scores)\n",
    "# summarize performance\n",
    "print('MAE: %.3f (%.3f)' % (np.mean(n_scores), np.std(n_scores)))"
   ]
  },
  {
   "cell_type": "markdown",
   "metadata": {},
   "source": [
    "### Chained Multioutput Regression"
   ]
  },
  {
   "cell_type": "code",
   "execution_count": 18,
   "metadata": {},
   "outputs": [
    {
     "name": "stdout",
     "output_type": "stream",
     "text": [
      "MAE: 1.120 (0.088)\n"
     ]
    }
   ],
   "source": [
    "from sklearn.multioutput import RegressorChain\n",
    "\n",
    "# define base model\n",
    "model = LinearSVR()\n",
    "# define the direct multioutput wrapper model\n",
    "wrapper = RegressorChain(model)\n",
    "# define the evaluation procedure\n",
    "cv = RepeatedKFold(n_splits=5, n_repeats=3, random_state=44)\n",
    "# evaluate the model and collect the scores\n",
    "n_scores = cross_val_score(wrapper, X_train, y_train, scoring='neg_mean_absolute_error', cv=cv, n_jobs=-1)\n",
    "# force the scores to be positive\n",
    "n_scores = np.absolute(n_scores)\n",
    "# summarize performance\n",
    "print('MAE: %.3f (%.3f)' % (np.mean(n_scores), np.std(n_scores)))"
   ]
  },
  {
   "cell_type": "markdown",
   "metadata": {},
   "source": [
    "### Deep learning"
   ]
  },
  {
   "cell_type": "code",
   "execution_count": 19,
   "metadata": {},
   "outputs": [],
   "source": [
    "import keras\n",
    "from keras.models import Sequential\n",
    "from keras.layers import Dense\n",
    "\n",
    "# define the model\n",
    "model = Sequential()\n",
    "model.add(Dense(20, input_dim=130, kernel_initializer='he_uniform', activation='relu'))\n",
    "model.add(Dense(2))\n",
    "model.compile(loss='mse',\n",
    "              optimizer='adam',\n",
    "              metrics = ['mae','mse'])"
   ]
  },
  {
   "cell_type": "code",
   "execution_count": 20,
   "metadata": {},
   "outputs": [
    {
     "name": "stdout",
     "output_type": "stream",
     "text": [
      "Epoch 1/100\n",
      "325/325 [==============================] - 1s 2ms/step - loss: 204.6907 - mae: 10.3614 - mse: 204.6907 - val_loss: 39.4916 - val_mae: 4.2984 - val_mse: 39.4916\n",
      "Epoch 2/100\n",
      "325/325 [==============================] - 0s 1ms/step - loss: 17.1625 - mae: 2.6176 - mse: 17.1625 - val_loss: 14.0799 - val_mae: 2.1520 - val_mse: 14.0799\n",
      "Epoch 3/100\n",
      "325/325 [==============================] - 0s 1ms/step - loss: 9.9617 - mae: 1.8533 - mse: 9.9617 - val_loss: 10.5113 - val_mae: 1.8180 - val_mse: 10.5113\n",
      "Epoch 4/100\n",
      "325/325 [==============================] - 1s 2ms/step - loss: 8.0824 - mae: 1.6041 - mse: 8.0824 - val_loss: 8.7994 - val_mae: 1.6274 - val_mse: 8.7994\n",
      "Epoch 5/100\n",
      "325/325 [==============================] - 0s 1ms/step - loss: 6.9818 - mae: 1.4553 - mse: 6.9818 - val_loss: 7.6671 - val_mae: 1.4672 - val_mse: 7.6671\n",
      "Epoch 6/100\n",
      "325/325 [==============================] - 1s 2ms/step - loss: 6.2134 - mae: 1.3337 - mse: 6.2134 - val_loss: 6.7549 - val_mae: 1.3394 - val_mse: 6.7549\n",
      "Epoch 7/100\n",
      "325/325 [==============================] - 1s 2ms/step - loss: 5.6261 - mae: 1.2409 - mse: 5.6261 - val_loss: 6.2113 - val_mae: 1.2509 - val_mse: 6.2113\n",
      "Epoch 8/100\n",
      "325/325 [==============================] - 1s 2ms/step - loss: 5.1857 - mae: 1.1638 - mse: 5.1857 - val_loss: 5.7193 - val_mae: 1.1910 - val_mse: 5.7193\n",
      "Epoch 9/100\n",
      "325/325 [==============================] - 1s 2ms/step - loss: 4.6709 - mae: 1.0811 - mse: 4.6709 - val_loss: 5.2443 - val_mae: 1.1521 - val_mse: 5.2443\n",
      "Epoch 10/100\n",
      "325/325 [==============================] - 1s 2ms/step - loss: 4.5222 - mae: 1.0494 - mse: 4.5222 - val_loss: 4.8054 - val_mae: 1.0521 - val_mse: 4.8054\n",
      "Epoch 11/100\n",
      "325/325 [==============================] - 1s 2ms/step - loss: 4.1899 - mae: 0.9876 - mse: 4.1899 - val_loss: 4.4683 - val_mae: 1.0292 - val_mse: 4.4683\n",
      "Epoch 12/100\n",
      "325/325 [==============================] - 1s 2ms/step - loss: 3.9135 - mae: 0.9456 - mse: 3.9135 - val_loss: 4.3150 - val_mae: 0.9948 - val_mse: 4.3150\n",
      "Epoch 13/100\n",
      "325/325 [==============================] - 1s 2ms/step - loss: 3.6494 - mae: 0.9007 - mse: 3.6494 - val_loss: 3.8459 - val_mae: 0.9685 - val_mse: 3.8459\n",
      "Epoch 14/100\n",
      "325/325 [==============================] - 1s 2ms/step - loss: 3.4533 - mae: 0.8793 - mse: 3.4533 - val_loss: 3.6013 - val_mae: 0.9010 - val_mse: 3.6013\n",
      "Epoch 15/100\n",
      "325/325 [==============================] - 0s 1ms/step - loss: 3.2487 - mae: 0.8407 - mse: 3.2487 - val_loss: 3.6171 - val_mae: 0.8930 - val_mse: 3.6171\n",
      "Epoch 16/100\n",
      "325/325 [==============================] - 0s 997us/step - loss: 3.1239 - mae: 0.8176 - mse: 3.1239 - val_loss: 3.2108 - val_mae: 0.8420 - val_mse: 3.2108\n",
      "Epoch 17/100\n",
      "325/325 [==============================] - 0s 1ms/step - loss: 2.9330 - mae: 0.7913 - mse: 2.9330 - val_loss: 2.9073 - val_mae: 0.8024 - val_mse: 2.9073\n",
      "Epoch 18/100\n",
      "325/325 [==============================] - 0s 994us/step - loss: 2.7675 - mae: 0.7749 - mse: 2.7675 - val_loss: 3.2700 - val_mae: 0.8252 - val_mse: 3.2700\n",
      "Epoch 19/100\n",
      "325/325 [==============================] - 0s 1ms/step - loss: 2.6405 - mae: 0.7527 - mse: 2.6405 - val_loss: 2.8020 - val_mae: 0.7842 - val_mse: 2.8020\n",
      "Epoch 20/100\n",
      "325/325 [==============================] - 0s 1ms/step - loss: 2.5124 - mae: 0.7162 - mse: 2.5124 - val_loss: 2.4830 - val_mae: 0.7322 - val_mse: 2.4830\n",
      "Epoch 21/100\n",
      "325/325 [==============================] - 0s 1ms/step - loss: 2.4347 - mae: 0.7174 - mse: 2.4347 - val_loss: 2.5548 - val_mae: 0.7224 - val_mse: 2.5548\n",
      "Epoch 22/100\n",
      "325/325 [==============================] - 0s 1ms/step - loss: 2.3630 - mae: 0.6890 - mse: 2.3630 - val_loss: 2.4318 - val_mae: 0.7228 - val_mse: 2.4318\n",
      "Epoch 23/100\n",
      "325/325 [==============================] - 0s 1ms/step - loss: 2.3176 - mae: 0.6743 - mse: 2.3176 - val_loss: 2.2762 - val_mae: 0.7588 - val_mse: 2.2762\n",
      "Epoch 24/100\n",
      "325/325 [==============================] - 0s 1ms/step - loss: 2.2098 - mae: 0.6684 - mse: 2.2098 - val_loss: 2.4068 - val_mae: 0.6985 - val_mse: 2.4068\n",
      "Epoch 25/100\n",
      "325/325 [==============================] - 0s 1ms/step - loss: 2.1627 - mae: 0.6459 - mse: 2.1627 - val_loss: 2.0786 - val_mae: 0.6554 - val_mse: 2.0786\n",
      "Epoch 26/100\n",
      "325/325 [==============================] - 0s 1ms/step - loss: 2.1146 - mae: 0.6346 - mse: 2.1146 - val_loss: 2.1603 - val_mae: 0.6873 - val_mse: 2.1603\n",
      "Epoch 27/100\n",
      "325/325 [==============================] - 0s 995us/step - loss: 2.0608 - mae: 0.6228 - mse: 2.0608 - val_loss: 2.0187 - val_mae: 0.6226 - val_mse: 2.0187\n",
      "Epoch 28/100\n",
      "325/325 [==============================] - 0s 998us/step - loss: 2.0176 - mae: 0.6086 - mse: 2.0176 - val_loss: 1.9012 - val_mae: 0.6471 - val_mse: 1.9012\n",
      "Epoch 29/100\n",
      "325/325 [==============================] - 0s 1ms/step - loss: 1.9890 - mae: 0.6019 - mse: 1.9890 - val_loss: 1.9110 - val_mae: 0.6212 - val_mse: 1.9110\n",
      "Epoch 30/100\n",
      "325/325 [==============================] - 0s 1ms/step - loss: 1.9439 - mae: 0.5828 - mse: 1.9439 - val_loss: 1.8330 - val_mae: 0.5815 - val_mse: 1.8330\n",
      "Epoch 31/100\n",
      "325/325 [==============================] - 0s 1ms/step - loss: 1.8775 - mae: 0.5728 - mse: 1.8775 - val_loss: 2.0510 - val_mae: 0.6290 - val_mse: 2.0510\n",
      "Epoch 32/100\n",
      "325/325 [==============================] - 0s 1ms/step - loss: 1.9328 - mae: 0.5786 - mse: 1.9328 - val_loss: 1.8684 - val_mae: 0.6114 - val_mse: 1.8684\n",
      "Epoch 33/100\n",
      "325/325 [==============================] - 0s 1ms/step - loss: 1.8840 - mae: 0.5755 - mse: 1.8840 - val_loss: 2.2672 - val_mae: 0.6448 - val_mse: 2.2672\n",
      "Epoch 34/100\n",
      "325/325 [==============================] - 0s 1ms/step - loss: 1.8829 - mae: 0.5639 - mse: 1.8829 - val_loss: 1.8752 - val_mae: 0.6528 - val_mse: 1.8752\n",
      "Epoch 35/100\n",
      "325/325 [==============================] - 0s 1ms/step - loss: 1.8338 - mae: 0.5615 - mse: 1.8338 - val_loss: 1.8208 - val_mae: 0.5786 - val_mse: 1.8208\n",
      "Epoch 36/100\n",
      "325/325 [==============================] - 0s 1ms/step - loss: 1.7930 - mae: 0.5526 - mse: 1.7930 - val_loss: 1.8484 - val_mae: 0.6119 - val_mse: 1.8484\n",
      "Epoch 37/100\n",
      "325/325 [==============================] - 1s 2ms/step - loss: 1.8107 - mae: 0.5505 - mse: 1.8107 - val_loss: 1.8773 - val_mae: 0.6205 - val_mse: 1.8773\n",
      "Epoch 38/100\n",
      "325/325 [==============================] - 1s 2ms/step - loss: 1.8069 - mae: 0.5442 - mse: 1.8069 - val_loss: 1.6597 - val_mae: 0.5384 - val_mse: 1.6597\n",
      "Epoch 39/100\n",
      "325/325 [==============================] - 1s 2ms/step - loss: 1.7257 - mae: 0.5299 - mse: 1.7257 - val_loss: 1.6662 - val_mae: 0.5852 - val_mse: 1.6662\n",
      "Epoch 40/100\n",
      "325/325 [==============================] - 0s 1ms/step - loss: 1.7503 - mae: 0.5404 - mse: 1.7503 - val_loss: 1.7600 - val_mae: 0.5621 - val_mse: 1.7600\n",
      "Epoch 41/100\n",
      "325/325 [==============================] - 0s 958us/step - loss: 1.7357 - mae: 0.5281 - mse: 1.7357 - val_loss: 1.7226 - val_mae: 0.5406 - val_mse: 1.7226\n",
      "Epoch 42/100\n",
      "325/325 [==============================] - 0s 726us/step - loss: 1.7020 - mae: 0.5182 - mse: 1.7020 - val_loss: 1.6299 - val_mae: 0.5530 - val_mse: 1.6299\n",
      "Epoch 43/100\n",
      "325/325 [==============================] - 0s 1ms/step - loss: 1.7291 - mae: 0.5303 - mse: 1.7291 - val_loss: 1.7580 - val_mae: 0.5575 - val_mse: 1.7580\n",
      "Epoch 44/100\n",
      "325/325 [==============================] - 0s 819us/step - loss: 1.6689 - mae: 0.5160 - mse: 1.6689 - val_loss: 1.7995 - val_mae: 0.5639 - val_mse: 1.7995\n",
      "Epoch 45/100\n",
      "325/325 [==============================] - 0s 849us/step - loss: 1.6265 - mae: 0.4979 - mse: 1.6265 - val_loss: 1.7081 - val_mae: 0.5511 - val_mse: 1.7081\n",
      "Epoch 46/100\n",
      "325/325 [==============================] - 0s 1ms/step - loss: 1.6958 - mae: 0.5144 - mse: 1.6958 - val_loss: 1.5731 - val_mae: 0.5187 - val_mse: 1.5731\n",
      "Epoch 47/100\n",
      "325/325 [==============================] - 0s 1ms/step - loss: 1.6349 - mae: 0.4860 - mse: 1.6349 - val_loss: 1.5190 - val_mae: 0.5415 - val_mse: 1.5190\n",
      "Epoch 48/100\n",
      "325/325 [==============================] - 0s 757us/step - loss: 1.6493 - mae: 0.4969 - mse: 1.6493 - val_loss: 1.5113 - val_mae: 0.4780 - val_mse: 1.5113\n",
      "Epoch 49/100\n",
      "325/325 [==============================] - 0s 760us/step - loss: 1.6080 - mae: 0.4908 - mse: 1.6080 - val_loss: 1.6317 - val_mae: 0.4786 - val_mse: 1.6317\n",
      "Epoch 50/100\n",
      "325/325 [==============================] - 0s 1ms/step - loss: 1.6211 - mae: 0.4922 - mse: 1.6211 - val_loss: 1.5555 - val_mae: 0.5842 - val_mse: 1.5555\n",
      "Epoch 51/100\n",
      "325/325 [==============================] - 0s 1ms/step - loss: 1.6427 - mae: 0.5046 - mse: 1.6427 - val_loss: 1.3822 - val_mae: 0.4681 - val_mse: 1.3822\n",
      "Epoch 52/100\n",
      "325/325 [==============================] - 0s 1ms/step - loss: 1.6228 - mae: 0.4956 - mse: 1.6228 - val_loss: 1.5629 - val_mae: 0.5921 - val_mse: 1.5629\n",
      "Epoch 53/100\n",
      "325/325 [==============================] - 0s 948us/step - loss: 1.5791 - mae: 0.4798 - mse: 1.5791 - val_loss: 1.4630 - val_mae: 0.4735 - val_mse: 1.4630\n",
      "Epoch 54/100\n",
      "325/325 [==============================] - 1s 2ms/step - loss: 1.5317 - mae: 0.4683 - mse: 1.5317 - val_loss: 1.5301 - val_mae: 0.5037 - val_mse: 1.5301\n",
      "Epoch 55/100\n",
      "325/325 [==============================] - 0s 986us/step - loss: 1.5642 - mae: 0.4755 - mse: 1.5642 - val_loss: 1.5537 - val_mae: 0.5752 - val_mse: 1.5537\n",
      "Epoch 56/100\n",
      "325/325 [==============================] - 0s 980us/step - loss: 1.5589 - mae: 0.4763 - mse: 1.5589 - val_loss: 1.4975 - val_mae: 0.4859 - val_mse: 1.4975\n",
      "Epoch 57/100\n",
      "325/325 [==============================] - 0s 1ms/step - loss: 1.5435 - mae: 0.4694 - mse: 1.5435 - val_loss: 1.5505 - val_mae: 0.4917 - val_mse: 1.5505\n",
      "Epoch 58/100\n",
      "325/325 [==============================] - 0s 1ms/step - loss: 1.5409 - mae: 0.4813 - mse: 1.5409 - val_loss: 1.4571 - val_mae: 0.4898 - val_mse: 1.4571\n",
      "Epoch 59/100\n",
      "325/325 [==============================] - 0s 999us/step - loss: 1.5500 - mae: 0.4570 - mse: 1.5500 - val_loss: 1.4922 - val_mae: 0.4500 - val_mse: 1.4922\n",
      "Epoch 60/100\n",
      "325/325 [==============================] - 0s 1ms/step - loss: 1.5206 - mae: 0.4612 - mse: 1.5206 - val_loss: 1.3620 - val_mae: 0.4874 - val_mse: 1.3620\n",
      "Epoch 61/100\n",
      "325/325 [==============================] - 0s 991us/step - loss: 1.5306 - mae: 0.4503 - mse: 1.5306 - val_loss: 1.3799 - val_mae: 0.4569 - val_mse: 1.3799\n",
      "Epoch 62/100\n",
      "325/325 [==============================] - 0s 1ms/step - loss: 1.4492 - mae: 0.4546 - mse: 1.4492 - val_loss: 1.8459 - val_mae: 0.5025 - val_mse: 1.8459\n",
      "Epoch 63/100\n",
      "325/325 [==============================] - 0s 1ms/step - loss: 1.5422 - mae: 0.4629 - mse: 1.5422 - val_loss: 1.3795 - val_mae: 0.4887 - val_mse: 1.3795\n",
      "Epoch 64/100\n",
      "325/325 [==============================] - 0s 1ms/step - loss: 1.4769 - mae: 0.4707 - mse: 1.4769 - val_loss: 1.4734 - val_mae: 0.4546 - val_mse: 1.4734\n",
      "Epoch 65/100\n",
      "325/325 [==============================] - 0s 1ms/step - loss: 1.4950 - mae: 0.4480 - mse: 1.4950 - val_loss: 1.3374 - val_mae: 0.4204 - val_mse: 1.3374\n",
      "Epoch 66/100\n",
      "325/325 [==============================] - 0s 1ms/step - loss: 1.4912 - mae: 0.4478 - mse: 1.4912 - val_loss: 1.2850 - val_mae: 0.4375 - val_mse: 1.2850\n",
      "Epoch 67/100\n",
      "325/325 [==============================] - 0s 979us/step - loss: 1.4719 - mae: 0.4520 - mse: 1.4719 - val_loss: 1.4743 - val_mae: 0.4495 - val_mse: 1.4743\n",
      "Epoch 68/100\n",
      "325/325 [==============================] - 0s 927us/step - loss: 1.4545 - mae: 0.4360 - mse: 1.4545 - val_loss: 1.2780 - val_mae: 0.4393 - val_mse: 1.2780\n",
      "Epoch 69/100\n",
      "325/325 [==============================] - 0s 979us/step - loss: 1.4493 - mae: 0.4485 - mse: 1.4493 - val_loss: 1.3089 - val_mae: 0.5174 - val_mse: 1.3089\n",
      "Epoch 70/100\n",
      "325/325 [==============================] - 1s 2ms/step - loss: 1.4618 - mae: 0.4387 - mse: 1.4618 - val_loss: 1.2114 - val_mae: 0.4163 - val_mse: 1.2114\n",
      "Epoch 71/100\n",
      "325/325 [==============================] - 1s 2ms/step - loss: 1.4375 - mae: 0.4315 - mse: 1.4375 - val_loss: 1.2475 - val_mae: 0.4341 - val_mse: 1.2475\n",
      "Epoch 72/100\n",
      "325/325 [==============================] - 0s 1ms/step - loss: 1.4203 - mae: 0.4358 - mse: 1.4203 - val_loss: 1.2653 - val_mae: 0.4284 - val_mse: 1.2653\n",
      "Epoch 73/100\n",
      "325/325 [==============================] - 0s 1ms/step - loss: 1.4055 - mae: 0.4302 - mse: 1.4055 - val_loss: 1.1632 - val_mae: 0.4030 - val_mse: 1.1632\n",
      "Epoch 74/100\n",
      "325/325 [==============================] - 0s 1ms/step - loss: 1.3939 - mae: 0.4266 - mse: 1.3939 - val_loss: 1.3890 - val_mae: 0.4270 - val_mse: 1.3890\n",
      "Epoch 75/100\n",
      "325/325 [==============================] - 0s 1ms/step - loss: 1.4208 - mae: 0.4348 - mse: 1.4208 - val_loss: 1.1887 - val_mae: 0.4253 - val_mse: 1.1887\n",
      "Epoch 76/100\n",
      "325/325 [==============================] - 0s 1ms/step - loss: 1.3627 - mae: 0.4177 - mse: 1.3627 - val_loss: 1.1732 - val_mae: 0.4327 - val_mse: 1.1732\n",
      "Epoch 77/100\n",
      "325/325 [==============================] - 0s 970us/step - loss: 1.3807 - mae: 0.4216 - mse: 1.3807 - val_loss: 1.3649 - val_mae: 0.4680 - val_mse: 1.3649\n",
      "Epoch 78/100\n",
      "325/325 [==============================] - 0s 1ms/step - loss: 1.3673 - mae: 0.4234 - mse: 1.3673 - val_loss: 1.1868 - val_mae: 0.4130 - val_mse: 1.1868\n",
      "Epoch 79/100\n",
      "325/325 [==============================] - 0s 1ms/step - loss: 1.3721 - mae: 0.4253 - mse: 1.3721 - val_loss: 1.3321 - val_mae: 0.4006 - val_mse: 1.3321\n",
      "Epoch 80/100\n",
      "325/325 [==============================] - 0s 1ms/step - loss: 1.3459 - mae: 0.4100 - mse: 1.3459 - val_loss: 1.1248 - val_mae: 0.4020 - val_mse: 1.1248\n",
      "Epoch 81/100\n",
      "325/325 [==============================] - 0s 1ms/step - loss: 1.3691 - mae: 0.4366 - mse: 1.3691 - val_loss: 1.2429 - val_mae: 0.4453 - val_mse: 1.2429\n",
      "Epoch 82/100\n",
      "325/325 [==============================] - 0s 985us/step - loss: 1.3298 - mae: 0.4317 - mse: 1.3298 - val_loss: 1.3572 - val_mae: 0.5061 - val_mse: 1.3572\n",
      "Epoch 83/100\n",
      "325/325 [==============================] - 0s 924us/step - loss: 1.3556 - mae: 0.4360 - mse: 1.3556 - val_loss: 1.1440 - val_mae: 0.3728 - val_mse: 1.1440\n",
      "Epoch 84/100\n",
      "325/325 [==============================] - 0s 962us/step - loss: 1.3154 - mae: 0.4005 - mse: 1.3154 - val_loss: 1.1318 - val_mae: 0.4246 - val_mse: 1.1318\n",
      "Epoch 85/100\n",
      "325/325 [==============================] - 0s 1ms/step - loss: 1.3155 - mae: 0.4045 - mse: 1.3155 - val_loss: 1.1464 - val_mae: 0.3847 - val_mse: 1.1464\n",
      "Epoch 86/100\n",
      "325/325 [==============================] - 0s 1ms/step - loss: 1.2751 - mae: 0.4031 - mse: 1.2751 - val_loss: 1.2512 - val_mae: 0.4114 - val_mse: 1.2512\n",
      "Epoch 87/100\n",
      "325/325 [==============================] - 0s 1ms/step - loss: 1.3390 - mae: 0.4230 - mse: 1.3390 - val_loss: 1.1494 - val_mae: 0.4541 - val_mse: 1.1494\n",
      "Epoch 88/100\n",
      "325/325 [==============================] - 0s 1ms/step - loss: 1.3112 - mae: 0.4225 - mse: 1.3112 - val_loss: 1.0835 - val_mae: 0.3790 - val_mse: 1.0835\n",
      "Epoch 89/100\n",
      "325/325 [==============================] - 0s 1ms/step - loss: 1.2797 - mae: 0.3996 - mse: 1.2797 - val_loss: 1.1143 - val_mae: 0.4242 - val_mse: 1.1143\n",
      "Epoch 90/100\n",
      "325/325 [==============================] - 0s 1ms/step - loss: 1.2733 - mae: 0.4111 - mse: 1.2733 - val_loss: 1.1861 - val_mae: 0.4259 - val_mse: 1.1861\n",
      "Epoch 91/100\n",
      "325/325 [==============================] - 0s 1ms/step - loss: 1.2933 - mae: 0.4123 - mse: 1.2933 - val_loss: 1.1232 - val_mae: 0.4582 - val_mse: 1.1232\n",
      "Epoch 92/100\n",
      "325/325 [==============================] - 0s 1ms/step - loss: 1.2240 - mae: 0.3918 - mse: 1.2240 - val_loss: 1.2235 - val_mae: 0.5214 - val_mse: 1.2235\n",
      "Epoch 93/100\n",
      "325/325 [==============================] - 0s 1ms/step - loss: 1.2601 - mae: 0.4076 - mse: 1.2601 - val_loss: 1.0091 - val_mae: 0.3697 - val_mse: 1.0091\n",
      "Epoch 94/100\n",
      "325/325 [==============================] - 0s 967us/step - loss: 1.2143 - mae: 0.4021 - mse: 1.2143 - val_loss: 1.0555 - val_mae: 0.3830 - val_mse: 1.0555\n",
      "Epoch 95/100\n",
      "325/325 [==============================] - 0s 998us/step - loss: 1.2490 - mae: 0.3952 - mse: 1.2490 - val_loss: 1.0931 - val_mae: 0.3931 - val_mse: 1.0931\n",
      "Epoch 96/100\n",
      "325/325 [==============================] - 0s 1ms/step - loss: 1.2679 - mae: 0.4100 - mse: 1.2679 - val_loss: 0.9725 - val_mae: 0.3649 - val_mse: 0.9725\n",
      "Epoch 97/100\n",
      "325/325 [==============================] - 0s 960us/step - loss: 1.2377 - mae: 0.3993 - mse: 1.2377 - val_loss: 1.0368 - val_mae: 0.4295 - val_mse: 1.0368\n",
      "Epoch 98/100\n",
      "325/325 [==============================] - 0s 1ms/step - loss: 1.2411 - mae: 0.3960 - mse: 1.2411 - val_loss: 1.1203 - val_mae: 0.4172 - val_mse: 1.1203\n",
      "Epoch 99/100\n",
      "325/325 [==============================] - 0s 1ms/step - loss: 1.2352 - mae: 0.3938 - mse: 1.2352 - val_loss: 1.0567 - val_mae: 0.4208 - val_mse: 1.0567\n",
      "Epoch 100/100\n",
      "325/325 [==============================] - 0s 1ms/step - loss: 1.2090 - mae: 0.4071 - mse: 1.2090 - val_loss: 1.1402 - val_mae: 0.4313 - val_mse: 1.1402\n"
     ]
    }
   ],
   "source": [
    "history = model.fit(\n",
    "    X_train,\n",
    "    y_train,\n",
    "    batch_size = 10,\n",
    "    epochs = 100,\n",
    "    validation_split = 0.2,\n",
    "    callbacks=[keras.callbacks.EarlyStopping(monitor='val_loss', patience=10)]\n",
    ")"
   ]
  },
  {
   "cell_type": "code",
   "execution_count": 21,
   "metadata": {},
   "outputs": [
    {
     "data": {
      "text/html": [
       "<div>\n",
       "<style scoped>\n",
       "    .dataframe tbody tr th:only-of-type {\n",
       "        vertical-align: middle;\n",
       "    }\n",
       "\n",
       "    .dataframe tbody tr th {\n",
       "        vertical-align: top;\n",
       "    }\n",
       "\n",
       "    .dataframe thead th {\n",
       "        text-align: right;\n",
       "    }\n",
       "</style>\n",
       "<table border=\"1\" class=\"dataframe\">\n",
       "  <thead>\n",
       "    <tr style=\"text-align: right;\">\n",
       "      <th></th>\n",
       "      <th>loss</th>\n",
       "      <th>mae</th>\n",
       "      <th>mse</th>\n",
       "      <th>val_loss</th>\n",
       "      <th>val_mae</th>\n",
       "      <th>val_mse</th>\n",
       "      <th>epoch</th>\n",
       "    </tr>\n",
       "  </thead>\n",
       "  <tbody>\n",
       "    <tr>\n",
       "      <th>0</th>\n",
       "      <td>204.690674</td>\n",
       "      <td>10.361420</td>\n",
       "      <td>204.690674</td>\n",
       "      <td>39.491554</td>\n",
       "      <td>4.298391</td>\n",
       "      <td>39.491554</td>\n",
       "      <td>0</td>\n",
       "    </tr>\n",
       "    <tr>\n",
       "      <th>1</th>\n",
       "      <td>17.162470</td>\n",
       "      <td>2.617633</td>\n",
       "      <td>17.162470</td>\n",
       "      <td>14.079899</td>\n",
       "      <td>2.151986</td>\n",
       "      <td>14.079899</td>\n",
       "      <td>1</td>\n",
       "    </tr>\n",
       "    <tr>\n",
       "      <th>2</th>\n",
       "      <td>9.961726</td>\n",
       "      <td>1.853268</td>\n",
       "      <td>9.961726</td>\n",
       "      <td>10.511337</td>\n",
       "      <td>1.817957</td>\n",
       "      <td>10.511337</td>\n",
       "      <td>2</td>\n",
       "    </tr>\n",
       "    <tr>\n",
       "      <th>3</th>\n",
       "      <td>8.082372</td>\n",
       "      <td>1.604056</td>\n",
       "      <td>8.082372</td>\n",
       "      <td>8.799372</td>\n",
       "      <td>1.627368</td>\n",
       "      <td>8.799372</td>\n",
       "      <td>3</td>\n",
       "    </tr>\n",
       "    <tr>\n",
       "      <th>4</th>\n",
       "      <td>6.981800</td>\n",
       "      <td>1.455349</td>\n",
       "      <td>6.981799</td>\n",
       "      <td>7.667086</td>\n",
       "      <td>1.467233</td>\n",
       "      <td>7.667086</td>\n",
       "      <td>4</td>\n",
       "    </tr>\n",
       "    <tr>\n",
       "      <th>...</th>\n",
       "      <td>...</td>\n",
       "      <td>...</td>\n",
       "      <td>...</td>\n",
       "      <td>...</td>\n",
       "      <td>...</td>\n",
       "      <td>...</td>\n",
       "      <td>...</td>\n",
       "    </tr>\n",
       "    <tr>\n",
       "      <th>95</th>\n",
       "      <td>1.267856</td>\n",
       "      <td>0.409993</td>\n",
       "      <td>1.267856</td>\n",
       "      <td>0.972479</td>\n",
       "      <td>0.364875</td>\n",
       "      <td>0.972479</td>\n",
       "      <td>95</td>\n",
       "    </tr>\n",
       "    <tr>\n",
       "      <th>96</th>\n",
       "      <td>1.237700</td>\n",
       "      <td>0.399300</td>\n",
       "      <td>1.237700</td>\n",
       "      <td>1.036752</td>\n",
       "      <td>0.429526</td>\n",
       "      <td>1.036752</td>\n",
       "      <td>96</td>\n",
       "    </tr>\n",
       "    <tr>\n",
       "      <th>97</th>\n",
       "      <td>1.241100</td>\n",
       "      <td>0.395999</td>\n",
       "      <td>1.241100</td>\n",
       "      <td>1.120312</td>\n",
       "      <td>0.417211</td>\n",
       "      <td>1.120312</td>\n",
       "      <td>97</td>\n",
       "    </tr>\n",
       "    <tr>\n",
       "      <th>98</th>\n",
       "      <td>1.235162</td>\n",
       "      <td>0.393835</td>\n",
       "      <td>1.235162</td>\n",
       "      <td>1.056750</td>\n",
       "      <td>0.420820</td>\n",
       "      <td>1.056750</td>\n",
       "      <td>98</td>\n",
       "    </tr>\n",
       "    <tr>\n",
       "      <th>99</th>\n",
       "      <td>1.209050</td>\n",
       "      <td>0.407126</td>\n",
       "      <td>1.209050</td>\n",
       "      <td>1.140232</td>\n",
       "      <td>0.431265</td>\n",
       "      <td>1.140232</td>\n",
       "      <td>99</td>\n",
       "    </tr>\n",
       "  </tbody>\n",
       "</table>\n",
       "<p>100 rows × 7 columns</p>\n",
       "</div>"
      ],
      "text/plain": [
       "          loss        mae         mse   val_loss   val_mae    val_mse  epoch\n",
       "0   204.690674  10.361420  204.690674  39.491554  4.298391  39.491554      0\n",
       "1    17.162470   2.617633   17.162470  14.079899  2.151986  14.079899      1\n",
       "2     9.961726   1.853268    9.961726  10.511337  1.817957  10.511337      2\n",
       "3     8.082372   1.604056    8.082372   8.799372  1.627368   8.799372      3\n",
       "4     6.981800   1.455349    6.981799   7.667086  1.467233   7.667086      4\n",
       "..         ...        ...         ...        ...       ...        ...    ...\n",
       "95    1.267856   0.409993    1.267856   0.972479  0.364875   0.972479     95\n",
       "96    1.237700   0.399300    1.237700   1.036752  0.429526   1.036752     96\n",
       "97    1.241100   0.395999    1.241100   1.120312  0.417211   1.120312     97\n",
       "98    1.235162   0.393835    1.235162   1.056750  0.420820   1.056750     98\n",
       "99    1.209050   0.407126    1.209050   1.140232  0.431265   1.140232     99\n",
       "\n",
       "[100 rows x 7 columns]"
      ]
     },
     "execution_count": 21,
     "metadata": {},
     "output_type": "execute_result"
    }
   ],
   "source": [
    "df_hist = pd.DataFrame(history.history)\n",
    "df_hist['epoch'] = history.epoch\n",
    "df_hist"
   ]
  },
  {
   "cell_type": "code",
   "execution_count": 22,
   "metadata": {},
   "outputs": [],
   "source": [
    "def plot_history(history):\n",
    "    df_hist = pd.DataFrame(history.history)\n",
    "    df_hist['epoch'] = history.epoch\n",
    "    plt.figure()\n",
    "    plt.xlabel('Epoch')\n",
    "    plt.ylabel('MAE')\n",
    "    plt.plot(df_hist['epoch'], df_hist['mae'], label=['Train Error'] )\n",
    "    plt.plot(df_hist['epoch'], df_hist['val_mae'], label=['Val Error'] )\n",
    "    plt.legend()\n",
    "    plt.figure()\n",
    "    plt.xlabel('Epoch')\n",
    "    plt.ylabel('MSE')\n",
    "    plt.plot(df_hist['epoch'], df_hist['mse'], label=['Train Error'] )\n",
    "    plt.plot(df_hist['epoch'], df_hist['val_mse'], label=['Val Error'] )\n",
    "    plt.ylim([0,20])\n",
    "    plt.legend()"
   ]
  },
  {
   "cell_type": "code",
   "execution_count": 23,
   "metadata": {},
   "outputs": [
    {
     "data": {
      "image/png": "[encoded data removed]",
      "text/plain": [
       "<Figure size 432x288 with 1 Axes>"
      ]
     },
     "metadata": {
      "needs_background": "light"
     },
     "output_type": "display_data"
    },
    {
     "data": {
      "image/png": "[encoded data removed]",
      "text/plain": [
       "<Figure size 432x288 with 1 Axes>"
      ]
     },
     "metadata": {
      "needs_background": "light"
     },
     "output_type": "display_data"
    }
   ],
   "source": [
    "plot_history(history)"
   ]
  },
  {
   "cell_type": "markdown",
   "metadata": {},
   "source": [
    "## Tune hyperparameters"
   ]
  },
  {
   "cell_type": "code",
   "execution_count": null,
   "metadata": {},
   "outputs": [],
   "source": []
  },
  {
   "cell_type": "markdown",
   "metadata": {},
   "source": [
    "## Test the model"
   ]
  },
  {
   "cell_type": "code",
   "execution_count": 24,
   "metadata": {},
   "outputs": [
    {
     "name": "stdout",
     "output_type": "stream",
     "text": [
      "[[36.  21. ]\n",
      " [26.4  5.4]\n",
      " [33.6 31.2]\n",
      " ...\n",
      " [35.4 24.6]\n",
      " [36.   9.6]\n",
      " [ 1.8  1.2]]\n"
     ]
    },
    {
     "name": "stderr",
     "output_type": "stream",
     "text": [
      "c:\\src\\theBridge\\course-env\\lib\\site-packages\\sklearn\\base.py:442: UserWarning: X does not have valid feature names, but KNeighborsRegressor was fitted with feature names\n",
      "  \"X does not have valid feature names, but\"\n"
     ]
    }
   ],
   "source": [
    "# define model\n",
    "model = KNeighborsRegressor()\n",
    "# model = DecisionTreeRegressor()\n",
    "model.fit(X_train, y_train)\n",
    "print(model.predict(X_test))"
   ]
  },
  {
   "cell_type": "code",
   "execution_count": 25,
   "metadata": {},
   "outputs": [
    {
     "name": "stdout",
     "output_type": "stream",
     "text": [
      "Real point          x     y\n",
      "8262  36.0  19.2\n",
      "Point predicted [[36.  19.2]]\n"
     ]
    },
    {
     "name": "stderr",
     "output_type": "stream",
     "text": [
      "c:\\src\\theBridge\\course-env\\lib\\site-packages\\sklearn\\base.py:442: UserWarning: X does not have valid feature names, but KNeighborsRegressor was fitted with feature names\n",
      "  \"X does not have valid feature names, but\"\n"
     ]
    }
   ],
   "source": [
    "i = 150\n",
    "# test = X_test.iloc[i:i+1, :]\n",
    "print(f'Real point {y_test.iloc[i:i+1, :]}')\n",
    "print(f'Point predicted {model.predict(X_test.iloc[i:i+1:, :])}')"
   ]
  },
  {
   "cell_type": "code",
   "execution_count": 26,
   "metadata": {},
   "outputs": [
    {
     "name": "stderr",
     "output_type": "stream",
     "text": [
      "c:\\src\\theBridge\\course-env\\lib\\site-packages\\sklearn\\base.py:442: UserWarning: X does not have valid feature names, but KNeighborsRegressor was fitted with feature names\n",
      "  \"X does not have valid feature names, but\"\n"
     ]
    },
    {
     "name": "stdout",
     "output_type": "stream",
     "text": [
      "MSE: 0.006035502958579897\n",
      "RMSE: 0.07768849952586224\n",
      "MAE: 0.006982248520710062\n"
     ]
    }
   ],
   "source": [
    "from sklearn.metrics import mean_squared_error\n",
    "from sklearn.metrics import mean_absolute_error\n",
    "\n",
    "predictions = model.predict(X_test)\n",
    "print(\"MSE:\", mean_squared_error(y_test, predictions))\n",
    "print(\"RMSE:\", np.sqrt(mean_squared_error(y_test, predictions)))\n",
    "print(\"MAE:\", mean_absolute_error(y_test, predictions))"
   ]
  },
  {
   "cell_type": "markdown",
   "metadata": {},
   "source": []
  }
 ],
 "metadata": {
  "interpreter": {
   "hash": "e9fe7e7741b3f19bcd135589f0a4246388c4ceff90e79f616981a3065da97231"
  },
  "kernelspec": {
   "display_name": "Python 3.7.4 64-bit ('course-env': venv)",
   "language": "python",
   "name": "python3"
  },
  "language_info": {
   "codemirror_mode": {
    "name": "ipython",
    "version": 3
   },
   "file_extension": ".py",
   "mimetype": "text/x-python",
   "name": "python",
   "nbconvert_exporter": "python",
   "pygments_lexer": "ipython3",
   "version": "3.7.4"
  },
  "orig_nbformat": 4
 },
 "nbformat": 4,
 "nbformat_minor": 2
}
