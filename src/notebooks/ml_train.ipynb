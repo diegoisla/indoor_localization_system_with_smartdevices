{
 "cells": [
  {
   "cell_type": "markdown",
   "metadata": {},
   "source": [
    "# Data analyst"
   ]
  },
  {
   "cell_type": "markdown",
   "metadata": {},
   "source": [
    "## Load libraries"
   ]
  },
  {
   "cell_type": "code",
   "execution_count": 3,
   "metadata": {},
   "outputs": [],
   "source": [
    "import os\n",
    "import numpy as np\n",
    "import pandas as pd\n",
    "import matplotlib.pyplot as plt\n",
    "\n",
    "import sklearn\n",
    "from sklearn.model_selection import cross_val_score\n",
    "from sklearn.model_selection import RepeatedKFold"
   ]
  },
  {
   "cell_type": "markdown",
   "metadata": {},
   "source": [
    "## Load data"
   ]
  },
  {
   "cell_type": "code",
   "execution_count": 4,
   "metadata": {},
   "outputs": [],
   "source": [
    "ROOT_PATH = os.pardir\n",
    "\n",
    "RAW_DATA_PATH = ROOT_PATH + '\\\\data\\\\raw\\\\'\n",
    "\n",
    "PROC_DATA_PATH = ROOT_PATH + '\\\\data\\\\proc\\\\'"
   ]
  },
  {
   "cell_type": "code",
   "execution_count": 5,
   "metadata": {},
   "outputs": [
    {
     "data": {
      "text/html": [
       "<div>\n",
       "<style scoped>\n",
       "    .dataframe tbody tr th:only-of-type {\n",
       "        vertical-align: middle;\n",
       "    }\n",
       "\n",
       "    .dataframe tbody tr th {\n",
       "        vertical-align: top;\n",
       "    }\n",
       "\n",
       "    .dataframe thead th {\n",
       "        text-align: right;\n",
       "    }\n",
       "</style>\n",
       "<table border=\"1\" class=\"dataframe\">\n",
       "  <thead>\n",
       "    <tr style=\"text-align: right;\">\n",
       "      <th></th>\n",
       "      <th>place_id</th>\n",
       "      <th>WAP001</th>\n",
       "      <th>WAP002</th>\n",
       "      <th>WAP003</th>\n",
       "      <th>WAP004</th>\n",
       "      <th>WAP005</th>\n",
       "      <th>WAP006</th>\n",
       "      <th>WAP007</th>\n",
       "      <th>WAP008</th>\n",
       "      <th>WAP009</th>\n",
       "      <th>...</th>\n",
       "      <th>WAP123</th>\n",
       "      <th>WAP124</th>\n",
       "      <th>WAP125</th>\n",
       "      <th>WAP126</th>\n",
       "      <th>WAP127</th>\n",
       "      <th>MagneticFieldX</th>\n",
       "      <th>MagneticFieldY</th>\n",
       "      <th>MagneticFieldZ</th>\n",
       "      <th>x</th>\n",
       "      <th>y</th>\n",
       "    </tr>\n",
       "  </thead>\n",
       "  <tbody>\n",
       "    <tr>\n",
       "      <th>3</th>\n",
       "      <td>2</td>\n",
       "      <td>-100</td>\n",
       "      <td>-100</td>\n",
       "      <td>-100</td>\n",
       "      <td>-100</td>\n",
       "      <td>-100</td>\n",
       "      <td>-100</td>\n",
       "      <td>-100</td>\n",
       "      <td>-100</td>\n",
       "      <td>-100</td>\n",
       "      <td>...</td>\n",
       "      <td>-100</td>\n",
       "      <td>-100</td>\n",
       "      <td>-100</td>\n",
       "      <td>-100</td>\n",
       "      <td>-100</td>\n",
       "      <td>-15.4</td>\n",
       "      <td>-0.2</td>\n",
       "      <td>-33.3</td>\n",
       "      <td>1.2</td>\n",
       "      <td>0.6</td>\n",
       "    </tr>\n",
       "    <tr>\n",
       "      <th>6</th>\n",
       "      <td>2</td>\n",
       "      <td>-100</td>\n",
       "      <td>-100</td>\n",
       "      <td>-100</td>\n",
       "      <td>-100</td>\n",
       "      <td>-100</td>\n",
       "      <td>-100</td>\n",
       "      <td>-100</td>\n",
       "      <td>-100</td>\n",
       "      <td>-100</td>\n",
       "      <td>...</td>\n",
       "      <td>-100</td>\n",
       "      <td>-100</td>\n",
       "      <td>-100</td>\n",
       "      <td>-100</td>\n",
       "      <td>-100</td>\n",
       "      <td>-15.4</td>\n",
       "      <td>-0.8</td>\n",
       "      <td>-33.3</td>\n",
       "      <td>1.2</td>\n",
       "      <td>0.6</td>\n",
       "    </tr>\n",
       "    <tr>\n",
       "      <th>7</th>\n",
       "      <td>2</td>\n",
       "      <td>-100</td>\n",
       "      <td>-100</td>\n",
       "      <td>-100</td>\n",
       "      <td>-100</td>\n",
       "      <td>-100</td>\n",
       "      <td>-100</td>\n",
       "      <td>-100</td>\n",
       "      <td>-100</td>\n",
       "      <td>-100</td>\n",
       "      <td>...</td>\n",
       "      <td>-100</td>\n",
       "      <td>-100</td>\n",
       "      <td>-100</td>\n",
       "      <td>-100</td>\n",
       "      <td>-100</td>\n",
       "      <td>-15.4</td>\n",
       "      <td>-1.2</td>\n",
       "      <td>-33.3</td>\n",
       "      <td>1.2</td>\n",
       "      <td>0.6</td>\n",
       "    </tr>\n",
       "    <tr>\n",
       "      <th>9</th>\n",
       "      <td>2</td>\n",
       "      <td>-100</td>\n",
       "      <td>-100</td>\n",
       "      <td>-100</td>\n",
       "      <td>-100</td>\n",
       "      <td>-100</td>\n",
       "      <td>-100</td>\n",
       "      <td>-100</td>\n",
       "      <td>-100</td>\n",
       "      <td>-100</td>\n",
       "      <td>...</td>\n",
       "      <td>-100</td>\n",
       "      <td>-100</td>\n",
       "      <td>-100</td>\n",
       "      <td>-100</td>\n",
       "      <td>-100</td>\n",
       "      <td>-15.4</td>\n",
       "      <td>-1.2</td>\n",
       "      <td>-33.7</td>\n",
       "      <td>1.2</td>\n",
       "      <td>0.6</td>\n",
       "    </tr>\n",
       "    <tr>\n",
       "      <th>14</th>\n",
       "      <td>2</td>\n",
       "      <td>-100</td>\n",
       "      <td>-100</td>\n",
       "      <td>-100</td>\n",
       "      <td>-100</td>\n",
       "      <td>-100</td>\n",
       "      <td>-100</td>\n",
       "      <td>-100</td>\n",
       "      <td>-100</td>\n",
       "      <td>-100</td>\n",
       "      <td>...</td>\n",
       "      <td>-100</td>\n",
       "      <td>-100</td>\n",
       "      <td>-100</td>\n",
       "      <td>-100</td>\n",
       "      <td>-100</td>\n",
       "      <td>-15.0</td>\n",
       "      <td>-1.2</td>\n",
       "      <td>-33.7</td>\n",
       "      <td>1.2</td>\n",
       "      <td>0.6</td>\n",
       "    </tr>\n",
       "    <tr>\n",
       "      <th>...</th>\n",
       "      <td>...</td>\n",
       "      <td>...</td>\n",
       "      <td>...</td>\n",
       "      <td>...</td>\n",
       "      <td>...</td>\n",
       "      <td>...</td>\n",
       "      <td>...</td>\n",
       "      <td>...</td>\n",
       "      <td>...</td>\n",
       "      <td>...</td>\n",
       "      <td>...</td>\n",
       "      <td>...</td>\n",
       "      <td>...</td>\n",
       "      <td>...</td>\n",
       "      <td>...</td>\n",
       "      <td>...</td>\n",
       "      <td>...</td>\n",
       "      <td>...</td>\n",
       "      <td>...</td>\n",
       "      <td>...</td>\n",
       "      <td>...</td>\n",
       "    </tr>\n",
       "    <tr>\n",
       "      <th>11444</th>\n",
       "      <td>324</td>\n",
       "      <td>-69</td>\n",
       "      <td>-69</td>\n",
       "      <td>-50</td>\n",
       "      <td>-49</td>\n",
       "      <td>-100</td>\n",
       "      <td>-100</td>\n",
       "      <td>-75</td>\n",
       "      <td>-76</td>\n",
       "      <td>-100</td>\n",
       "      <td>...</td>\n",
       "      <td>-100</td>\n",
       "      <td>-78</td>\n",
       "      <td>-77</td>\n",
       "      <td>-100</td>\n",
       "      <td>-100</td>\n",
       "      <td>14.1</td>\n",
       "      <td>-37.2</td>\n",
       "      <td>-19.6</td>\n",
       "      <td>32.4</td>\n",
       "      <td>34.2</td>\n",
       "    </tr>\n",
       "    <tr>\n",
       "      <th>11446</th>\n",
       "      <td>324</td>\n",
       "      <td>-69</td>\n",
       "      <td>-69</td>\n",
       "      <td>-50</td>\n",
       "      <td>-49</td>\n",
       "      <td>-100</td>\n",
       "      <td>-100</td>\n",
       "      <td>-75</td>\n",
       "      <td>-76</td>\n",
       "      <td>-100</td>\n",
       "      <td>...</td>\n",
       "      <td>-100</td>\n",
       "      <td>-78</td>\n",
       "      <td>-77</td>\n",
       "      <td>-100</td>\n",
       "      <td>-100</td>\n",
       "      <td>14.1</td>\n",
       "      <td>-36.8</td>\n",
       "      <td>-19.6</td>\n",
       "      <td>32.4</td>\n",
       "      <td>34.2</td>\n",
       "    </tr>\n",
       "    <tr>\n",
       "      <th>11447</th>\n",
       "      <td>324</td>\n",
       "      <td>-69</td>\n",
       "      <td>-69</td>\n",
       "      <td>-50</td>\n",
       "      <td>-49</td>\n",
       "      <td>-100</td>\n",
       "      <td>-100</td>\n",
       "      <td>-75</td>\n",
       "      <td>-76</td>\n",
       "      <td>-100</td>\n",
       "      <td>...</td>\n",
       "      <td>-100</td>\n",
       "      <td>-78</td>\n",
       "      <td>-77</td>\n",
       "      <td>-100</td>\n",
       "      <td>-100</td>\n",
       "      <td>14.1</td>\n",
       "      <td>-36.8</td>\n",
       "      <td>-20.0</td>\n",
       "      <td>32.4</td>\n",
       "      <td>34.2</td>\n",
       "    </tr>\n",
       "    <tr>\n",
       "      <th>11448</th>\n",
       "      <td>324</td>\n",
       "      <td>-69</td>\n",
       "      <td>-69</td>\n",
       "      <td>-50</td>\n",
       "      <td>-49</td>\n",
       "      <td>-100</td>\n",
       "      <td>-100</td>\n",
       "      <td>-75</td>\n",
       "      <td>-76</td>\n",
       "      <td>-100</td>\n",
       "      <td>...</td>\n",
       "      <td>-100</td>\n",
       "      <td>-78</td>\n",
       "      <td>-77</td>\n",
       "      <td>-100</td>\n",
       "      <td>-100</td>\n",
       "      <td>14.5</td>\n",
       "      <td>-36.8</td>\n",
       "      <td>-20.0</td>\n",
       "      <td>32.4</td>\n",
       "      <td>34.2</td>\n",
       "    </tr>\n",
       "    <tr>\n",
       "      <th>11455</th>\n",
       "      <td>324</td>\n",
       "      <td>-69</td>\n",
       "      <td>-69</td>\n",
       "      <td>-50</td>\n",
       "      <td>-49</td>\n",
       "      <td>-100</td>\n",
       "      <td>-100</td>\n",
       "      <td>-75</td>\n",
       "      <td>-76</td>\n",
       "      <td>-100</td>\n",
       "      <td>...</td>\n",
       "      <td>-100</td>\n",
       "      <td>-78</td>\n",
       "      <td>-77</td>\n",
       "      <td>-100</td>\n",
       "      <td>-100</td>\n",
       "      <td>14.5</td>\n",
       "      <td>-36.4</td>\n",
       "      <td>-20.0</td>\n",
       "      <td>32.4</td>\n",
       "      <td>34.2</td>\n",
       "    </tr>\n",
       "  </tbody>\n",
       "</table>\n",
       "<p>5070 rows × 133 columns</p>\n",
       "</div>"
      ],
      "text/plain": [
       "       place_id  WAP001  WAP002  WAP003  WAP004  WAP005  WAP006  WAP007  \\\n",
       "3             2    -100    -100    -100    -100    -100    -100    -100   \n",
       "6             2    -100    -100    -100    -100    -100    -100    -100   \n",
       "7             2    -100    -100    -100    -100    -100    -100    -100   \n",
       "9             2    -100    -100    -100    -100    -100    -100    -100   \n",
       "14            2    -100    -100    -100    -100    -100    -100    -100   \n",
       "...         ...     ...     ...     ...     ...     ...     ...     ...   \n",
       "11444       324     -69     -69     -50     -49    -100    -100     -75   \n",
       "11446       324     -69     -69     -50     -49    -100    -100     -75   \n",
       "11447       324     -69     -69     -50     -49    -100    -100     -75   \n",
       "11448       324     -69     -69     -50     -49    -100    -100     -75   \n",
       "11455       324     -69     -69     -50     -49    -100    -100     -75   \n",
       "\n",
       "       WAP008  WAP009  ...  WAP123  WAP124  WAP125  WAP126  WAP127  \\\n",
       "3        -100    -100  ...    -100    -100    -100    -100    -100   \n",
       "6        -100    -100  ...    -100    -100    -100    -100    -100   \n",
       "7        -100    -100  ...    -100    -100    -100    -100    -100   \n",
       "9        -100    -100  ...    -100    -100    -100    -100    -100   \n",
       "14       -100    -100  ...    -100    -100    -100    -100    -100   \n",
       "...       ...     ...  ...     ...     ...     ...     ...     ...   \n",
       "11444     -76    -100  ...    -100     -78     -77    -100    -100   \n",
       "11446     -76    -100  ...    -100     -78     -77    -100    -100   \n",
       "11447     -76    -100  ...    -100     -78     -77    -100    -100   \n",
       "11448     -76    -100  ...    -100     -78     -77    -100    -100   \n",
       "11455     -76    -100  ...    -100     -78     -77    -100    -100   \n",
       "\n",
       "       MagneticFieldX  MagneticFieldY  MagneticFieldZ     x     y  \n",
       "3               -15.4            -0.2           -33.3   1.2   0.6  \n",
       "6               -15.4            -0.8           -33.3   1.2   0.6  \n",
       "7               -15.4            -1.2           -33.3   1.2   0.6  \n",
       "9               -15.4            -1.2           -33.7   1.2   0.6  \n",
       "14              -15.0            -1.2           -33.7   1.2   0.6  \n",
       "...               ...             ...             ...   ...   ...  \n",
       "11444            14.1           -37.2           -19.6  32.4  34.2  \n",
       "11446            14.1           -36.8           -19.6  32.4  34.2  \n",
       "11447            14.1           -36.8           -20.0  32.4  34.2  \n",
       "11448            14.5           -36.8           -20.0  32.4  34.2  \n",
       "11455            14.5           -36.4           -20.0  32.4  34.2  \n",
       "\n",
       "[5070 rows x 133 columns]"
      ]
     },
     "execution_count": 5,
     "metadata": {},
     "output_type": "execute_result"
    }
   ],
   "source": [
    "signals = pd.read_excel(PROC_DATA_PATH + 'measure1_wifi_smartphone.xlsx', index_col=0)\n",
    "signals"
   ]
  },
  {
   "cell_type": "markdown",
   "metadata": {},
   "source": [
    "## Split labels and features"
   ]
  },
  {
   "cell_type": "code",
   "execution_count": 6,
   "metadata": {},
   "outputs": [],
   "source": [
    "# X = m1_wifi_df.iloc[:,:-2]\n",
    "# y = m1_wifi_df.iloc[:,-2:]\n",
    "\n",
    "X = signals.iloc[:,1:-2]\n",
    "y = signals.iloc[:,-2:]"
   ]
  },
  {
   "cell_type": "markdown",
   "metadata": {},
   "source": [
    "### Standarize"
   ]
  },
  {
   "cell_type": "code",
   "execution_count": 7,
   "metadata": {},
   "outputs": [],
   "source": [
    "from sklearn.preprocessing import StandardScaler\n",
    "\n",
    "std = StandardScaler().fit(X)\n",
    "X = pd.DataFrame(std.transform(X), columns=X.columns)"
   ]
  },
  {
   "cell_type": "markdown",
   "metadata": {},
   "source": [
    "## Split train test"
   ]
  },
  {
   "cell_type": "code",
   "execution_count": 8,
   "metadata": {},
   "outputs": [],
   "source": [
    "from sklearn.model_selection import train_test_split\n",
    "from sklearn.utils import shuffle           \n",
    "\n",
    "X, y = shuffle(X, y, random_state=44)\n",
    "X_train, X_test, y_train, y_test = train_test_split(X,\n",
    "                                                    y,\n",
    "                                                    test_size=0.2,\n",
    "                                                    random_state=44)"
   ]
  },
  {
   "cell_type": "markdown",
   "metadata": {},
   "source": [
    "## Build the model"
   ]
  },
  {
   "cell_type": "markdown",
   "metadata": {},
   "source": [
    "### Linear Regression for Multioutput Regression"
   ]
  },
  {
   "cell_type": "code",
   "execution_count": 9,
   "metadata": {},
   "outputs": [
    {
     "name": "stdout",
     "output_type": "stream",
     "text": [
      "MAE: 1.247 (0.048)\n"
     ]
    }
   ],
   "source": [
    "from sklearn.linear_model import LinearRegression\n",
    "\n",
    "# define model\n",
    "model = LinearRegression()\n",
    "# define the evaluation procedure\n",
    "cv = RepeatedKFold(n_splits=5, n_repeats=3, random_state=44)\n",
    "# evaluate the model and collect the scores\n",
    "n_scores = cross_val_score(model, X_train, y_train, scoring='neg_mean_absolute_error', cv=cv, n_jobs=-1)\n",
    "# force the scores to be positive\n",
    "n_scores = np.absolute(n_scores)\n",
    "# summarize performance\n",
    "print('MAE: %.3f (%.3f)' % (np.mean(n_scores), np.std(n_scores)))"
   ]
  },
  {
   "cell_type": "markdown",
   "metadata": {},
   "source": [
    "### k-Nearest Neighbors for Multioutput Regression"
   ]
  },
  {
   "cell_type": "code",
   "execution_count": 10,
   "metadata": {},
   "outputs": [
    {
     "name": "stdout",
     "output_type": "stream",
     "text": [
      "MAE: 0.017 (0.008)\n"
     ]
    }
   ],
   "source": [
    "from sklearn.neighbors import KNeighborsRegressor\n",
    "\n",
    "# define model\n",
    "model = KNeighborsRegressor()\n",
    "# define the evaluation procedure\n",
    "cv = RepeatedKFold(n_splits=5, n_repeats=3, random_state=44)\n",
    "# evaluate the model and collect the scores\n",
    "n_scores = cross_val_score(model, X_train, y_train, scoring='neg_mean_absolute_error', cv=cv, n_jobs=-1)\n",
    "# force the scores to be positive\n",
    "n_scores = np.absolute(n_scores)\n",
    "# summarize performance\n",
    "print('MAE: %.3f (%.3f)' % (np.mean(n_scores), np.std(n_scores)))"
   ]
  },
  {
   "cell_type": "markdown",
   "metadata": {},
   "source": [
    "### Decision Tree"
   ]
  },
  {
   "cell_type": "code",
   "execution_count": 11,
   "metadata": {},
   "outputs": [
    {
     "name": "stdout",
     "output_type": "stream",
     "text": [
      "MAE: 0.004 (0.006)\n"
     ]
    }
   ],
   "source": [
    "from sklearn.tree import DecisionTreeRegressor\n",
    "\n",
    "# define model\n",
    "model = DecisionTreeRegressor()\n",
    "# define the evaluation procedure\n",
    "cv = RepeatedKFold(n_splits=5, n_repeats=3, random_state=44)\n",
    "# evaluate the model and collect the scores\n",
    "n_scores = cross_val_score(model, X_train, y_train, scoring='neg_mean_absolute_error', cv=cv, n_jobs=-1)\n",
    "# force the scores to be positive\n",
    "n_scores = np.absolute(n_scores)\n",
    "# summarize performance\n",
    "print('MAE: %.3f (%.3f)' % (np.mean(n_scores), np.std(n_scores)))"
   ]
  },
  {
   "cell_type": "markdown",
   "metadata": {},
   "source": [
    "### Direct Multioutput Regression"
   ]
  },
  {
   "cell_type": "code",
   "execution_count": 12,
   "metadata": {},
   "outputs": [
    {
     "name": "stdout",
     "output_type": "stream",
     "text": [
      "MAE: 1.028 (0.046)\n"
     ]
    }
   ],
   "source": [
    "from sklearn.multioutput import MultiOutputRegressor\n",
    "from sklearn.svm import LinearSVR\n",
    "\n",
    "# define base model\n",
    "model = LinearSVR()\n",
    "# define the direct multioutput wrapper model\n",
    "wrapper = MultiOutputRegressor(model)\n",
    "# define the evaluation procedure\n",
    "cv = RepeatedKFold(n_splits=5, n_repeats=3, random_state=44)\n",
    "# evaluate the model and collect the scores\n",
    "n_scores = cross_val_score(wrapper, X_train, y_train, scoring='neg_mean_absolute_error', cv=cv, n_jobs=-1)\n",
    "# force the scores to be positive\n",
    "n_scores = np.absolute(n_scores)\n",
    "# summarize performance\n",
    "print('MAE: %.3f (%.3f)' % (np.mean(n_scores), np.std(n_scores)))"
   ]
  },
  {
   "cell_type": "markdown",
   "metadata": {},
   "source": [
    "### Chained Multioutput Regression"
   ]
  },
  {
   "cell_type": "code",
   "execution_count": 13,
   "metadata": {},
   "outputs": [
    {
     "name": "stdout",
     "output_type": "stream",
     "text": [
      "MAE: 1.108 (0.051)\n"
     ]
    }
   ],
   "source": [
    "from sklearn.multioutput import RegressorChain\n",
    "\n",
    "# define base model\n",
    "model = LinearSVR()\n",
    "# define the direct multioutput wrapper model\n",
    "wrapper = RegressorChain(model)\n",
    "# define the evaluation procedure\n",
    "cv = RepeatedKFold(n_splits=5, n_repeats=3, random_state=44)\n",
    "# evaluate the model and collect the scores\n",
    "n_scores = cross_val_score(wrapper, X_train, y_train, scoring='neg_mean_absolute_error', cv=cv, n_jobs=-1)\n",
    "# force the scores to be positive\n",
    "n_scores = np.absolute(n_scores)\n",
    "# summarize performance\n",
    "print('MAE: %.3f (%.3f)' % (np.mean(n_scores), np.std(n_scores)))"
   ]
  },
  {
   "cell_type": "markdown",
   "metadata": {},
   "source": [
    "### Deep learning"
   ]
  },
  {
   "cell_type": "code",
   "execution_count": 14,
   "metadata": {},
   "outputs": [],
   "source": [
    "import keras\n",
    "from keras.models import Sequential\n",
    "from keras.layers import Dense\n",
    "\n",
    "# define the model\n",
    "model = Sequential()\n",
    "model.add(Dense(20, input_dim=130, kernel_initializer='he_uniform', activation='relu'))\n",
    "model.add(Dense(2))\n",
    "model.compile(loss='mse',\n",
    "              optimizer='adam',\n",
    "              metrics = ['mae','mse'])"
   ]
  },
  {
   "cell_type": "code",
   "execution_count": 15,
   "metadata": {},
   "outputs": [
    {
     "name": "stdout",
     "output_type": "stream",
     "text": [
      "Epoch 1/100\n",
      "325/325 [==============================] - 2s 2ms/step - loss: 180.1431 - mae: 9.6281 - mse: 180.1431 - val_loss: 13.6696 - val_mae: 2.4136 - val_mse: 13.6696\n",
      "Epoch 2/100\n",
      "325/325 [==============================] - 0s 1ms/step - loss: 12.3593 - mae: 2.0912 - mse: 12.3593 - val_loss: 7.6079 - val_mae: 1.6071 - val_mse: 7.6079\n",
      "Epoch 3/100\n",
      "325/325 [==============================] - 1s 2ms/step - loss: 9.0315 - mae: 1.6599 - mse: 9.0315 - val_loss: 5.9955 - val_mae: 1.3917 - val_mse: 5.9955\n",
      "Epoch 4/100\n",
      "325/325 [==============================] - 0s 1ms/step - loss: 7.6150 - mae: 1.4847 - mse: 7.6150 - val_loss: 5.1800 - val_mae: 1.2438 - val_mse: 5.1800\n",
      "Epoch 5/100\n",
      "325/325 [==============================] - 1s 2ms/step - loss: 6.7787 - mae: 1.3631 - mse: 6.7787 - val_loss: 4.6765 - val_mae: 1.1667 - val_mse: 4.6765\n",
      "Epoch 6/100\n",
      "325/325 [==============================] - 0s 1ms/step - loss: 6.2543 - mae: 1.2781 - mse: 6.2543 - val_loss: 4.2580 - val_mae: 1.1080 - val_mse: 4.2580\n",
      "Epoch 7/100\n",
      "325/325 [==============================] - 0s 864us/step - loss: 5.8763 - mae: 1.1960 - mse: 5.8763 - val_loss: 3.9647 - val_mae: 1.0566 - val_mse: 3.9647\n",
      "Epoch 8/100\n",
      "325/325 [==============================] - 0s 991us/step - loss: 5.5030 - mae: 1.1417 - mse: 5.5030 - val_loss: 3.6443 - val_mae: 0.9691 - val_mse: 3.6443\n",
      "Epoch 9/100\n",
      "325/325 [==============================] - 0s 1ms/step - loss: 5.2173 - mae: 1.0907 - mse: 5.2173 - val_loss: 3.4203 - val_mae: 0.9324 - val_mse: 3.4203\n",
      "Epoch 10/100\n",
      "325/325 [==============================] - 0s 1ms/step - loss: 4.9015 - mae: 1.0528 - mse: 4.9015 - val_loss: 3.4351 - val_mae: 0.9592 - val_mse: 3.4351\n",
      "Epoch 11/100\n",
      "325/325 [==============================] - 1s 2ms/step - loss: 4.6457 - mae: 1.0169 - mse: 4.6457 - val_loss: 2.9969 - val_mae: 0.8706 - val_mse: 2.9969\n",
      "Epoch 12/100\n",
      "325/325 [==============================] - 0s 812us/step - loss: 4.4207 - mae: 0.9790 - mse: 4.4207 - val_loss: 2.8011 - val_mae: 0.8357 - val_mse: 2.8011\n",
      "Epoch 13/100\n",
      "325/325 [==============================] - 0s 765us/step - loss: 4.2025 - mae: 0.9567 - mse: 4.2025 - val_loss: 2.6539 - val_mae: 0.8335 - val_mse: 2.6539\n",
      "Epoch 14/100\n",
      "325/325 [==============================] - 0s 992us/step - loss: 3.9879 - mae: 0.9313 - mse: 3.9879 - val_loss: 2.4585 - val_mae: 0.8045 - val_mse: 2.4585\n",
      "Epoch 15/100\n",
      "325/325 [==============================] - 0s 1ms/step - loss: 3.7117 - mae: 0.8967 - mse: 3.7117 - val_loss: 2.3333 - val_mae: 0.8070 - val_mse: 2.3333\n",
      "Epoch 16/100\n",
      "325/325 [==============================] - 0s 837us/step - loss: 3.5028 - mae: 0.8705 - mse: 3.5028 - val_loss: 2.3210 - val_mae: 0.7953 - val_mse: 2.3210\n",
      "Epoch 17/100\n",
      "325/325 [==============================] - 0s 807us/step - loss: 3.2962 - mae: 0.8515 - mse: 3.2962 - val_loss: 2.0296 - val_mae: 0.7273 - val_mse: 2.0296\n",
      "Epoch 18/100\n",
      "325/325 [==============================] - 0s 1ms/step - loss: 3.0601 - mae: 0.8080 - mse: 3.0601 - val_loss: 1.9686 - val_mae: 0.7561 - val_mse: 1.9686\n",
      "Epoch 19/100\n",
      "325/325 [==============================] - 0s 858us/step - loss: 2.8902 - mae: 0.7879 - mse: 2.8902 - val_loss: 1.7953 - val_mae: 0.6917 - val_mse: 1.7953\n",
      "Epoch 20/100\n",
      "325/325 [==============================] - 0s 803us/step - loss: 2.7385 - mae: 0.7782 - mse: 2.7385 - val_loss: 1.7618 - val_mae: 0.6940 - val_mse: 1.7618\n",
      "Epoch 21/100\n",
      "325/325 [==============================] - 0s 836us/step - loss: 2.5783 - mae: 0.7464 - mse: 2.5783 - val_loss: 1.6224 - val_mae: 0.6679 - val_mse: 1.6224\n",
      "Epoch 22/100\n",
      "325/325 [==============================] - 0s 1ms/step - loss: 2.4562 - mae: 0.7278 - mse: 2.4562 - val_loss: 1.5607 - val_mae: 0.6448 - val_mse: 1.5607\n",
      "Epoch 23/100\n",
      "325/325 [==============================] - 1s 2ms/step - loss: 2.3755 - mae: 0.7126 - mse: 2.3755 - val_loss: 1.4633 - val_mae: 0.6158 - val_mse: 1.4633\n",
      "Epoch 24/100\n",
      "325/325 [==============================] - 0s 1ms/step - loss: 2.2908 - mae: 0.6948 - mse: 2.2908 - val_loss: 1.4513 - val_mae: 0.6164 - val_mse: 1.4513\n",
      "Epoch 25/100\n",
      "325/325 [==============================] - 0s 1ms/step - loss: 2.2531 - mae: 0.6909 - mse: 2.2531 - val_loss: 1.5548 - val_mae: 0.6325 - val_mse: 1.5548\n",
      "Epoch 26/100\n",
      "325/325 [==============================] - 0s 955us/step - loss: 2.1834 - mae: 0.6755 - mse: 2.1834 - val_loss: 1.3584 - val_mae: 0.5861 - val_mse: 1.3584\n",
      "Epoch 27/100\n",
      "325/325 [==============================] - 0s 957us/step - loss: 2.1447 - mae: 0.6593 - mse: 2.1447 - val_loss: 1.5157 - val_mae: 0.6509 - val_mse: 1.5157\n",
      "Epoch 28/100\n",
      "325/325 [==============================] - 0s 862us/step - loss: 2.1042 - mae: 0.6490 - mse: 2.1042 - val_loss: 1.3391 - val_mae: 0.5860 - val_mse: 1.3391\n",
      "Epoch 29/100\n",
      "325/325 [==============================] - 0s 829us/step - loss: 2.0074 - mae: 0.6253 - mse: 2.0074 - val_loss: 1.3019 - val_mae: 0.5687 - val_mse: 1.3019\n",
      "Epoch 30/100\n",
      "325/325 [==============================] - 0s 1ms/step - loss: 1.9347 - mae: 0.6186 - mse: 1.9347 - val_loss: 1.4109 - val_mae: 0.5548 - val_mse: 1.4109\n",
      "Epoch 31/100\n",
      "325/325 [==============================] - 1s 2ms/step - loss: 1.8886 - mae: 0.6156 - mse: 1.8886 - val_loss: 1.2734 - val_mae: 0.5468 - val_mse: 1.2734\n",
      "Epoch 32/100\n",
      "325/325 [==============================] - 0s 1ms/step - loss: 1.8499 - mae: 0.6063 - mse: 1.8499 - val_loss: 1.2857 - val_mae: 0.5766 - val_mse: 1.2857\n",
      "Epoch 33/100\n",
      "325/325 [==============================] - 0s 1ms/step - loss: 1.8982 - mae: 0.6001 - mse: 1.8982 - val_loss: 1.3957 - val_mae: 0.5315 - val_mse: 1.3957\n",
      "Epoch 34/100\n",
      "325/325 [==============================] - 0s 972us/step - loss: 1.8175 - mae: 0.5734 - mse: 1.8175 - val_loss: 1.2690 - val_mae: 0.5549 - val_mse: 1.2690\n",
      "Epoch 35/100\n",
      "325/325 [==============================] - 0s 1ms/step - loss: 1.8439 - mae: 0.5948 - mse: 1.8439 - val_loss: 1.2168 - val_mae: 0.5404 - val_mse: 1.2168\n",
      "Epoch 36/100\n",
      "325/325 [==============================] - 1s 2ms/step - loss: 1.7782 - mae: 0.5821 - mse: 1.7782 - val_loss: 1.2241 - val_mae: 0.5081 - val_mse: 1.2241\n",
      "Epoch 37/100\n",
      "325/325 [==============================] - 0s 884us/step - loss: 1.8050 - mae: 0.5787 - mse: 1.8050 - val_loss: 1.2560 - val_mae: 0.5284 - val_mse: 1.2560\n",
      "Epoch 38/100\n",
      "325/325 [==============================] - 0s 918us/step - loss: 1.7798 - mae: 0.5752 - mse: 1.7798 - val_loss: 1.1864 - val_mae: 0.4917 - val_mse: 1.1864\n",
      "Epoch 39/100\n",
      "325/325 [==============================] - 0s 892us/step - loss: 1.7153 - mae: 0.5513 - mse: 1.7153 - val_loss: 1.2334 - val_mae: 0.5123 - val_mse: 1.2334\n",
      "Epoch 40/100\n",
      "325/325 [==============================] - 0s 901us/step - loss: 1.7125 - mae: 0.5578 - mse: 1.7125 - val_loss: 1.3300 - val_mae: 0.5097 - val_mse: 1.3300\n",
      "Epoch 41/100\n",
      "325/325 [==============================] - 0s 874us/step - loss: 1.6999 - mae: 0.5501 - mse: 1.6999 - val_loss: 1.1990 - val_mae: 0.5340 - val_mse: 1.1990\n",
      "Epoch 42/100\n",
      "325/325 [==============================] - 0s 882us/step - loss: 1.6778 - mae: 0.5558 - mse: 1.6778 - val_loss: 1.2606 - val_mae: 0.4833 - val_mse: 1.2606\n",
      "Epoch 43/100\n",
      "325/325 [==============================] - 0s 880us/step - loss: 1.6949 - mae: 0.5525 - mse: 1.6949 - val_loss: 1.2745 - val_mae: 0.5437 - val_mse: 1.2745\n",
      "Epoch 44/100\n",
      "325/325 [==============================] - 0s 873us/step - loss: 1.6669 - mae: 0.5441 - mse: 1.6669 - val_loss: 1.2298 - val_mae: 0.5375 - val_mse: 1.2298\n",
      "Epoch 45/100\n",
      "325/325 [==============================] - 0s 892us/step - loss: 1.6232 - mae: 0.5420 - mse: 1.6232 - val_loss: 1.3266 - val_mae: 0.5707 - val_mse: 1.3266\n",
      "Epoch 46/100\n",
      "325/325 [==============================] - 0s 1ms/step - loss: 1.5957 - mae: 0.5344 - mse: 1.5957 - val_loss: 1.2242 - val_mae: 0.4772 - val_mse: 1.2242\n",
      "Epoch 47/100\n",
      "325/325 [==============================] - 0s 1ms/step - loss: 1.5670 - mae: 0.5295 - mse: 1.5670 - val_loss: 1.1264 - val_mae: 0.4681 - val_mse: 1.1264\n",
      "Epoch 48/100\n",
      "325/325 [==============================] - 0s 958us/step - loss: 1.5375 - mae: 0.5284 - mse: 1.5375 - val_loss: 1.3104 - val_mae: 0.4648 - val_mse: 1.3104\n",
      "Epoch 49/100\n",
      "325/325 [==============================] - 1s 2ms/step - loss: 1.5472 - mae: 0.5227 - mse: 1.5472 - val_loss: 1.1460 - val_mae: 0.4707 - val_mse: 1.1460\n",
      "Epoch 50/100\n",
      "325/325 [==============================] - 0s 1ms/step - loss: 1.5259 - mae: 0.5314 - mse: 1.5259 - val_loss: 1.2517 - val_mae: 0.5482 - val_mse: 1.2517\n",
      "Epoch 51/100\n",
      "325/325 [==============================] - 0s 1ms/step - loss: 1.4942 - mae: 0.5191 - mse: 1.4942 - val_loss: 1.2146 - val_mae: 0.4632 - val_mse: 1.2146\n",
      "Epoch 52/100\n",
      "325/325 [==============================] - 0s 1ms/step - loss: 1.5251 - mae: 0.5246 - mse: 1.5251 - val_loss: 1.2424 - val_mae: 0.4640 - val_mse: 1.2424\n",
      "Epoch 53/100\n",
      "325/325 [==============================] - 1s 2ms/step - loss: 1.5205 - mae: 0.5259 - mse: 1.5205 - val_loss: 1.0849 - val_mae: 0.4457 - val_mse: 1.0849\n",
      "Epoch 54/100\n",
      "325/325 [==============================] - 1s 2ms/step - loss: 1.4340 - mae: 0.5010 - mse: 1.4340 - val_loss: 0.9890 - val_mae: 0.4722 - val_mse: 0.9890\n",
      "Epoch 55/100\n",
      "325/325 [==============================] - 0s 1ms/step - loss: 1.5359 - mae: 0.5323 - mse: 1.5359 - val_loss: 1.0223 - val_mae: 0.4781 - val_mse: 1.0223\n",
      "Epoch 56/100\n",
      "325/325 [==============================] - 1s 2ms/step - loss: 1.4622 - mae: 0.5042 - mse: 1.4622 - val_loss: 1.1421 - val_mae: 0.4606 - val_mse: 1.1421\n",
      "Epoch 57/100\n",
      "325/325 [==============================] - 0s 1ms/step - loss: 1.4258 - mae: 0.5054 - mse: 1.4258 - val_loss: 1.2013 - val_mae: 0.4782 - val_mse: 1.2013\n",
      "Epoch 58/100\n",
      "325/325 [==============================] - 0s 1ms/step - loss: 1.4643 - mae: 0.5114 - mse: 1.4643 - val_loss: 1.1689 - val_mae: 0.4630 - val_mse: 1.1689\n",
      "Epoch 59/100\n",
      "325/325 [==============================] - 0s 1ms/step - loss: 1.4573 - mae: 0.5221 - mse: 1.4573 - val_loss: 0.9766 - val_mae: 0.4507 - val_mse: 0.9766\n",
      "Epoch 60/100\n",
      "325/325 [==============================] - 0s 1ms/step - loss: 1.4272 - mae: 0.5092 - mse: 1.4272 - val_loss: 1.0977 - val_mae: 0.4661 - val_mse: 1.0977\n",
      "Epoch 61/100\n",
      "325/325 [==============================] - 0s 1ms/step - loss: 1.4172 - mae: 0.4878 - mse: 1.4172 - val_loss: 1.0444 - val_mae: 0.5126 - val_mse: 1.0444\n",
      "Epoch 62/100\n",
      "325/325 [==============================] - 0s 1ms/step - loss: 1.4349 - mae: 0.5059 - mse: 1.4349 - val_loss: 1.0543 - val_mae: 0.4590 - val_mse: 1.0543\n",
      "Epoch 63/100\n",
      "325/325 [==============================] - 0s 1ms/step - loss: 1.4008 - mae: 0.4977 - mse: 1.4008 - val_loss: 0.9540 - val_mae: 0.4467 - val_mse: 0.9540\n",
      "Epoch 64/100\n",
      "325/325 [==============================] - 0s 1ms/step - loss: 1.3805 - mae: 0.4966 - mse: 1.3805 - val_loss: 1.0748 - val_mae: 0.4344 - val_mse: 1.0748\n",
      "Epoch 65/100\n",
      "325/325 [==============================] - 0s 1ms/step - loss: 1.3893 - mae: 0.4958 - mse: 1.3893 - val_loss: 1.0116 - val_mae: 0.4268 - val_mse: 1.0116\n",
      "Epoch 66/100\n",
      "325/325 [==============================] - 0s 1ms/step - loss: 1.3988 - mae: 0.4958 - mse: 1.3988 - val_loss: 1.0849 - val_mae: 0.4526 - val_mse: 1.0849\n",
      "Epoch 67/100\n",
      "325/325 [==============================] - 0s 1ms/step - loss: 1.3555 - mae: 0.4921 - mse: 1.3555 - val_loss: 1.0849 - val_mae: 0.4197 - val_mse: 1.0849\n",
      "Epoch 68/100\n",
      "325/325 [==============================] - 0s 1ms/step - loss: 1.3140 - mae: 0.4607 - mse: 1.3140 - val_loss: 0.9921 - val_mae: 0.4816 - val_mse: 0.9921\n",
      "Epoch 69/100\n",
      "325/325 [==============================] - 0s 1ms/step - loss: 1.3828 - mae: 0.5016 - mse: 1.3828 - val_loss: 1.0013 - val_mae: 0.4517 - val_mse: 1.0013\n",
      "Epoch 70/100\n",
      "325/325 [==============================] - 0s 1ms/step - loss: 1.3291 - mae: 0.4906 - mse: 1.3291 - val_loss: 1.0569 - val_mae: 0.4836 - val_mse: 1.0569\n",
      "Epoch 71/100\n",
      "325/325 [==============================] - 0s 1ms/step - loss: 1.3681 - mae: 0.4790 - mse: 1.3681 - val_loss: 1.0386 - val_mae: 0.4894 - val_mse: 1.0386\n",
      "Epoch 72/100\n",
      "325/325 [==============================] - 0s 1ms/step - loss: 1.3290 - mae: 0.4798 - mse: 1.3290 - val_loss: 1.1241 - val_mae: 0.4557 - val_mse: 1.1241\n",
      "Epoch 73/100\n",
      "325/325 [==============================] - 0s 1ms/step - loss: 1.3126 - mae: 0.4688 - mse: 1.3126 - val_loss: 1.0163 - val_mae: 0.4843 - val_mse: 1.0163\n"
     ]
    }
   ],
   "source": [
    "history = model.fit(\n",
    "    X_train,\n",
    "    y_train,\n",
    "    batch_size = 10,\n",
    "    epochs = 100,\n",
    "    validation_split = 0.2,\n",
    "    callbacks=[keras.callbacks.EarlyStopping(monitor='val_loss', patience=10)]\n",
    ")"
   ]
  },
  {
   "cell_type": "code",
   "execution_count": 16,
   "metadata": {},
   "outputs": [
    {
     "data": {
      "text/html": [
       "<div>\n",
       "<style scoped>\n",
       "    .dataframe tbody tr th:only-of-type {\n",
       "        vertical-align: middle;\n",
       "    }\n",
       "\n",
       "    .dataframe tbody tr th {\n",
       "        vertical-align: top;\n",
       "    }\n",
       "\n",
       "    .dataframe thead th {\n",
       "        text-align: right;\n",
       "    }\n",
       "</style>\n",
       "<table border=\"1\" class=\"dataframe\">\n",
       "  <thead>\n",
       "    <tr style=\"text-align: right;\">\n",
       "      <th></th>\n",
       "      <th>loss</th>\n",
       "      <th>mae</th>\n",
       "      <th>mse</th>\n",
       "      <th>val_loss</th>\n",
       "      <th>val_mae</th>\n",
       "      <th>val_mse</th>\n",
       "      <th>epoch</th>\n",
       "    </tr>\n",
       "  </thead>\n",
       "  <tbody>\n",
       "    <tr>\n",
       "      <th>0</th>\n",
       "      <td>180.143112</td>\n",
       "      <td>9.628095</td>\n",
       "      <td>180.143112</td>\n",
       "      <td>13.669559</td>\n",
       "      <td>2.413592</td>\n",
       "      <td>13.669559</td>\n",
       "      <td>0</td>\n",
       "    </tr>\n",
       "    <tr>\n",
       "      <th>1</th>\n",
       "      <td>12.359330</td>\n",
       "      <td>2.091240</td>\n",
       "      <td>12.359330</td>\n",
       "      <td>7.607944</td>\n",
       "      <td>1.607114</td>\n",
       "      <td>7.607945</td>\n",
       "      <td>1</td>\n",
       "    </tr>\n",
       "    <tr>\n",
       "      <th>2</th>\n",
       "      <td>9.031525</td>\n",
       "      <td>1.659949</td>\n",
       "      <td>9.031525</td>\n",
       "      <td>5.995463</td>\n",
       "      <td>1.391671</td>\n",
       "      <td>5.995463</td>\n",
       "      <td>2</td>\n",
       "    </tr>\n",
       "    <tr>\n",
       "      <th>3</th>\n",
       "      <td>7.615009</td>\n",
       "      <td>1.484725</td>\n",
       "      <td>7.615009</td>\n",
       "      <td>5.179979</td>\n",
       "      <td>1.243825</td>\n",
       "      <td>5.179979</td>\n",
       "      <td>3</td>\n",
       "    </tr>\n",
       "    <tr>\n",
       "      <th>4</th>\n",
       "      <td>6.778715</td>\n",
       "      <td>1.363055</td>\n",
       "      <td>6.778715</td>\n",
       "      <td>4.676468</td>\n",
       "      <td>1.166668</td>\n",
       "      <td>4.676468</td>\n",
       "      <td>4</td>\n",
       "    </tr>\n",
       "    <tr>\n",
       "      <th>...</th>\n",
       "      <td>...</td>\n",
       "      <td>...</td>\n",
       "      <td>...</td>\n",
       "      <td>...</td>\n",
       "      <td>...</td>\n",
       "      <td>...</td>\n",
       "      <td>...</td>\n",
       "    </tr>\n",
       "    <tr>\n",
       "      <th>68</th>\n",
       "      <td>1.382760</td>\n",
       "      <td>0.501611</td>\n",
       "      <td>1.382760</td>\n",
       "      <td>1.001272</td>\n",
       "      <td>0.451669</td>\n",
       "      <td>1.001272</td>\n",
       "      <td>68</td>\n",
       "    </tr>\n",
       "    <tr>\n",
       "      <th>69</th>\n",
       "      <td>1.329074</td>\n",
       "      <td>0.490625</td>\n",
       "      <td>1.329074</td>\n",
       "      <td>1.056892</td>\n",
       "      <td>0.483616</td>\n",
       "      <td>1.056892</td>\n",
       "      <td>69</td>\n",
       "    </tr>\n",
       "    <tr>\n",
       "      <th>70</th>\n",
       "      <td>1.368080</td>\n",
       "      <td>0.478993</td>\n",
       "      <td>1.368080</td>\n",
       "      <td>1.038592</td>\n",
       "      <td>0.489439</td>\n",
       "      <td>1.038592</td>\n",
       "      <td>70</td>\n",
       "    </tr>\n",
       "    <tr>\n",
       "      <th>71</th>\n",
       "      <td>1.328975</td>\n",
       "      <td>0.479791</td>\n",
       "      <td>1.328975</td>\n",
       "      <td>1.124127</td>\n",
       "      <td>0.455732</td>\n",
       "      <td>1.124127</td>\n",
       "      <td>71</td>\n",
       "    </tr>\n",
       "    <tr>\n",
       "      <th>72</th>\n",
       "      <td>1.312609</td>\n",
       "      <td>0.468767</td>\n",
       "      <td>1.312609</td>\n",
       "      <td>1.016303</td>\n",
       "      <td>0.484309</td>\n",
       "      <td>1.016303</td>\n",
       "      <td>72</td>\n",
       "    </tr>\n",
       "  </tbody>\n",
       "</table>\n",
       "<p>73 rows × 7 columns</p>\n",
       "</div>"
      ],
      "text/plain": [
       "          loss       mae         mse   val_loss   val_mae    val_mse  epoch\n",
       "0   180.143112  9.628095  180.143112  13.669559  2.413592  13.669559      0\n",
       "1    12.359330  2.091240   12.359330   7.607944  1.607114   7.607945      1\n",
       "2     9.031525  1.659949    9.031525   5.995463  1.391671   5.995463      2\n",
       "3     7.615009  1.484725    7.615009   5.179979  1.243825   5.179979      3\n",
       "4     6.778715  1.363055    6.778715   4.676468  1.166668   4.676468      4\n",
       "..         ...       ...         ...        ...       ...        ...    ...\n",
       "68    1.382760  0.501611    1.382760   1.001272  0.451669   1.001272     68\n",
       "69    1.329074  0.490625    1.329074   1.056892  0.483616   1.056892     69\n",
       "70    1.368080  0.478993    1.368080   1.038592  0.489439   1.038592     70\n",
       "71    1.328975  0.479791    1.328975   1.124127  0.455732   1.124127     71\n",
       "72    1.312609  0.468767    1.312609   1.016303  0.484309   1.016303     72\n",
       "\n",
       "[73 rows x 7 columns]"
      ]
     },
     "execution_count": 16,
     "metadata": {},
     "output_type": "execute_result"
    }
   ],
   "source": [
    "df_hist = pd.DataFrame(history.history)\n",
    "df_hist['epoch'] = history.epoch\n",
    "df_hist"
   ]
  },
  {
   "cell_type": "code",
   "execution_count": 17,
   "metadata": {},
   "outputs": [],
   "source": [
    "def plot_history(history):\n",
    "    df_hist = pd.DataFrame(history.history)\n",
    "    df_hist['epoch'] = history.epoch\n",
    "    plt.figure()\n",
    "    plt.xlabel('Epoch')\n",
    "    plt.ylabel('MAE')\n",
    "    plt.plot(df_hist['epoch'], df_hist['mae'], label=['Train Error'] )\n",
    "    plt.plot(df_hist['epoch'], df_hist['val_mae'], label=['Val Error'] )\n",
    "    plt.legend()\n",
    "    plt.figure()\n",
    "    plt.xlabel('Epoch')\n",
    "    plt.ylabel('MSE')\n",
    "    plt.plot(df_hist['epoch'], df_hist['mse'], label=['Train Error'] )\n",
    "    plt.plot(df_hist['epoch'], df_hist['val_mse'], label=['Val Error'] )\n",
    "    plt.ylim([0,20])\n",
    "    plt.legend()"
   ]
  },
  {
   "cell_type": "code",
   "execution_count": 18,
   "metadata": {},
   "outputs": [
    {
     "data": {
      "image/png": "[encoded data removed]",
      "text/plain": [
       "<Figure size 432x288 with 1 Axes>"
      ]
     },
     "metadata": {
      "needs_background": "light"
     },
     "output_type": "display_data"
    },
    {
     "data": {
      "image/png": "[encoded data removed]",
      "text/plain": [
       "<Figure size 432x288 with 1 Axes>"
      ]
     },
     "metadata": {
      "needs_background": "light"
     },
     "output_type": "display_data"
    }
   ],
   "source": [
    "plot_history(history)"
   ]
  },
  {
   "cell_type": "markdown",
   "metadata": {},
   "source": [
    "## Tune hyperparameters"
   ]
  },
  {
   "cell_type": "code",
   "execution_count": 19,
   "metadata": {},
   "outputs": [],
   "source": [
    "from sklearn.pipeline import Pipeline\n",
    "# from sklearn.feature_selection import SelectKBest\n",
    "from sklearn.model_selection import GridSearchCV"
   ]
  },
  {
   "cell_type": "code",
   "execution_count": 22,
   "metadata": {},
   "outputs": [],
   "source": [
    "neighbors = Pipeline([\n",
    "                (\"neighbors\",KNeighborsRegressor())\n",
    "               ])\n",
    "\n",
    "\n",
    "decisionTree = Pipeline([\n",
    "                    (\"decisionTree\",DecisionTreeRegressor())\n",
    "                   ])\n",
    "\n",
    "# KNN\n",
    "grid_neighbors = {\"neighbors__n_neighbors\": [3,5,7,9,11],       # Pares acepta sklearn, pero se suele poner impares, por los empates\n",
    "                  \"neighbors__weights\": [\"uniform\",\"distance\"]  # Ponderar o no las clasificaciones en \n",
    "                                                     # función de la inversa de la distancia a cada vecino\n",
    "                  }\n",
    "\n",
    "# ARBOL DE DECISION\n",
    "grid_decisionTree = {\"decisionTree__max_depth\":list(range(1,10)) # Profundidades del árbol. Cuanto más profundo, mas posibilidades de overfitting,\n",
    "                                            # pero  mas preciso en entrenamiento.\n",
    "              }\n",
    "\n",
    "\n"
   ]
  },
  {
   "cell_type": "code",
   "execution_count": 23,
   "metadata": {},
   "outputs": [
    {
     "name": "stdout",
     "output_type": "stream",
     "text": [
      "Fitting 5 folds for each of 10 candidates, totalling 50 fits\n",
      "Fitting 5 folds for each of 9 candidates, totalling 45 fits\n"
     ]
    }
   ],
   "source": [
    "# Almaceno en una lista de tuplas los modelos (nombre que le pongo, el modelo, hiperparametros)\n",
    "models = [('KNeighborsRegressor', neighbors, grid_neighbors),\n",
    "         ('DecisionTreeRegressor', decisionTree, grid_decisionTree),\n",
    "         ]\n",
    "\n",
    "# Declaro en un diccionario los pipelines e hiperparametros\n",
    "models_gridsearch = {}\n",
    "\n",
    "for m in models:\n",
    "    models_gridsearch[m[0]] = GridSearchCV(m[1],\n",
    "                                          m[2],\n",
    "                                          cv=5,\n",
    "                                          scoring=\"neg_mean_squared_error\",\n",
    "                                          verbose=1,\n",
    "                                          n_jobs=-1)\n",
    "    \n",
    "    models_gridsearch[m[0]].fit(X_train, y_train)         "
   ]
  },
  {
   "cell_type": "code",
   "execution_count": 24,
   "metadata": {},
   "outputs": [
    {
     "data": {
      "text/html": [
       "<div>\n",
       "<style scoped>\n",
       "    .dataframe tbody tr th:only-of-type {\n",
       "        vertical-align: middle;\n",
       "    }\n",
       "\n",
       "    .dataframe tbody tr th {\n",
       "        vertical-align: top;\n",
       "    }\n",
       "\n",
       "    .dataframe thead th {\n",
       "        text-align: right;\n",
       "    }\n",
       "</style>\n",
       "<table border=\"1\" class=\"dataframe\">\n",
       "  <thead>\n",
       "    <tr style=\"text-align: right;\">\n",
       "      <th></th>\n",
       "      <th>Grid</th>\n",
       "      <th>Best score</th>\n",
       "    </tr>\n",
       "  </thead>\n",
       "  <tbody>\n",
       "    <tr>\n",
       "      <th>0</th>\n",
       "      <td>KNeighborsRegressor</td>\n",
       "      <td>-0.001288</td>\n",
       "    </tr>\n",
       "    <tr>\n",
       "      <th>1</th>\n",
       "      <td>DecisionTreeRegressor</td>\n",
       "      <td>-0.305582</td>\n",
       "    </tr>\n",
       "  </tbody>\n",
       "</table>\n",
       "</div>"
      ],
      "text/plain": [
       "                    Grid  Best score\n",
       "0    KNeighborsRegressor   -0.001288\n",
       "1  DecisionTreeRegressor   -0.305582"
      ]
     },
     "execution_count": 24,
     "metadata": {},
     "output_type": "execute_result"
    }
   ],
   "source": [
    "best_grids = [(i, j.best_score_) for i, j in models_gridsearch.items()]\n",
    "\n",
    "best_grids = pd.DataFrame(best_grids, columns=[\"Grid\", \"Best score\"]).sort_values(by=\"Best score\", ascending=False)\n",
    "best_grids"
   ]
  },
  {
   "cell_type": "code",
   "execution_count": 25,
   "metadata": {},
   "outputs": [
    {
     "data": {
      "text/plain": [
       "Pipeline(steps=[('neighbors',\n",
       "                 KNeighborsRegressor(n_neighbors=3, weights='distance'))])"
      ]
     },
     "execution_count": 25,
     "metadata": {},
     "output_type": "execute_result"
    }
   ],
   "source": [
    "# El mejor ha sido KNN\n",
    "models_gridsearch['KNeighborsRegressor'].best_estimator_"
   ]
  },
  {
   "cell_type": "markdown",
   "metadata": {},
   "source": [
    "## Test the model"
   ]
  },
  {
   "cell_type": "code",
   "execution_count": 26,
   "metadata": {},
   "outputs": [
    {
     "name": "stdout",
     "output_type": "stream",
     "text": [
      "[[20.4  4.8]\n",
      " [15.6  6. ]\n",
      " [31.2 29.4]\n",
      " ...\n",
      " [ 6.6  6. ]\n",
      " [27.6  6. ]\n",
      " [36.  17.4]]\n"
     ]
    },
    {
     "name": "stderr",
     "output_type": "stream",
     "text": [
      "c:\\src\\theBridge\\course-env\\lib\\site-packages\\sklearn\\base.py:442: UserWarning: X does not have valid feature names, but KNeighborsRegressor was fitted with feature names\n",
      "  \"X does not have valid feature names, but\"\n"
     ]
    }
   ],
   "source": [
    "# define model\n",
    "model = KNeighborsRegressor(n_neighbors=3, weights='distance')\n",
    "# model = DecisionTreeRegressor()\n",
    "model.fit(X_train, y_train)\n",
    "print(model.predict(X_test))"
   ]
  },
  {
   "cell_type": "code",
   "execution_count": 27,
   "metadata": {},
   "outputs": [
    {
     "name": "stdout",
     "output_type": "stream",
     "text": [
      "Real point          x    y\n",
      "6520  19.8  7.8\n",
      "Point predicted [[19.8  7.8]]\n"
     ]
    },
    {
     "name": "stderr",
     "output_type": "stream",
     "text": [
      "c:\\src\\theBridge\\course-env\\lib\\site-packages\\sklearn\\base.py:442: UserWarning: X does not have valid feature names, but KNeighborsRegressor was fitted with feature names\n",
      "  \"X does not have valid feature names, but\"\n"
     ]
    }
   ],
   "source": [
    "i = 150\n",
    "# test = X_test.iloc[i:i+1, :]\n",
    "print(f'Real point {y_test.iloc[i:i+1, :]}')\n",
    "print(f'Point predicted {model.predict(X_test.iloc[i:i+1:, :])}')"
   ]
  },
  {
   "cell_type": "code",
   "execution_count": 35,
   "metadata": {},
   "outputs": [
    {
     "name": "stderr",
     "output_type": "stream",
     "text": [
      "c:\\src\\theBridge\\course-env\\lib\\site-packages\\sklearn\\base.py:442: UserWarning: X does not have valid feature names, but KNeighborsRegressor was fitted with feature names\n",
      "  \"X does not have valid feature names, but\"\n"
     ]
    },
    {
     "name": "stdout",
     "output_type": "stream",
     "text": [
      "MSE:  0.0000004 \n",
      "RMSE: 0.00064 \n",
      "MAE:  0.00002 \n"
     ]
    }
   ],
   "source": [
    "from sklearn.metrics import mean_squared_error\n",
    "from sklearn.metrics import mean_absolute_error\n",
    "\n",
    "predictions = model.predict(X_test)\n",
    "print(\"MSE:  %.7f \" % mean_squared_error(y_test, predictions))\n",
    "print(\"RMSE: %.5f \" % np.sqrt(mean_squared_error(y_test, predictions)))\n",
    "print(\"MAE:  %.5f \" % mean_absolute_error(y_test, predictions))"
   ]
  },
  {
   "cell_type": "code",
   "execution_count": null,
   "metadata": {},
   "outputs": [],
   "source": []
  }
 ],
 "metadata": {
  "interpreter": {
   "hash": "e9fe7e7741b3f19bcd135589f0a4246388c4ceff90e79f616981a3065da97231"
  },
  "kernelspec": {
   "display_name": "Python 3.7.4 64-bit ('course-env': venv)",
   "language": "python",
   "name": "python3"
  },
  "language_info": {
   "codemirror_mode": {
    "name": "ipython",
    "version": 3
   },
   "file_extension": ".py",
   "mimetype": "text/x-python",
   "name": "python",
   "nbconvert_exporter": "python",
   "pygments_lexer": "ipython3",
   "version": "3.7.4"
  },
  "orig_nbformat": 4
 },
 "nbformat": 4,
 "nbformat_minor": 2
}
